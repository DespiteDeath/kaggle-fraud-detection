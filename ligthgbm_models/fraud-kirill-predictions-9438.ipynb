{
 "cells": [
  {
   "cell_type": "code",
   "execution_count": 1,
   "metadata": {
    "_cell_guid": "b1076dfc-b9ad-4769-8c92-a6c4dae69d19",
    "_uuid": "8f2839f25d086af736a60e9eeb907d3b93b6e0e5"
   },
   "outputs": [],
   "source": [
    "import datetime\n",
    "import numpy as np\n",
    "import os\n",
    "import pandas as pd\n",
    "import pickle\n",
    "\n",
    "def read_from_disk(path, filename):\n",
    "    with open(os.path.join(path, filename), 'rb') as handle:\n",
    "        return pickle.load(handle)\n",
    "    \n",
    "def save_to_disk(obj, filename):\n",
    "    with open(filename, 'wb') as handle:\n",
    "        pickle.dump(obj, handle, protocol=pickle.HIGHEST_PROTOCOL)"
   ]
  },
  {
   "cell_type": "code",
   "execution_count": 2,
   "metadata": {
    "_cell_guid": "79c7e3d0-c299-4dcb-8224-4455121ee9b0",
    "_uuid": "d629ff2d2480ee46fbb7e2d37f6b5fab8052498a"
   },
   "outputs": [
    {
     "data": {
      "text/plain": [
       "((590540, 394), (144233, 41))"
      ]
     },
     "execution_count": 2,
     "metadata": {},
     "output_type": "execute_result"
    }
   ],
   "source": [
    "trans_train = pd.read_csv('../input/ieee-fraud-detection/train_transaction.csv')\n",
    "id_train = pd.read_csv('../input/ieee-fraud-detection/train_identity.csv')\n",
    "trans_train.shape, id_train.shape"
   ]
  },
  {
   "cell_type": "code",
   "execution_count": 3,
   "metadata": {},
   "outputs": [
    {
     "data": {
      "text/plain": [
       "(590540, 434)"
      ]
     },
     "execution_count": 3,
     "metadata": {},
     "output_type": "execute_result"
    }
   ],
   "source": [
    "df_train = trans_train.merge(id_train, how='left', left_on='TransactionID', right_on='TransactionID')\n",
    "df_train.shape"
   ]
  },
  {
   "cell_type": "code",
   "execution_count": 4,
   "metadata": {},
   "outputs": [],
   "source": [
    "START_DATE = '2017-11-30'\n",
    "startdate = datetime.datetime.strptime(START_DATE, '%Y-%m-%d')\n",
    "TransactionDT1 = df_train['TransactionDT'].apply(lambda x: (startdate + datetime.timedelta(seconds = x)))\n",
    "dt_m = TransactionDT1.dt.date.astype('str').str[:7]"
   ]
  },
  {
   "cell_type": "code",
   "execution_count": 5,
   "metadata": {},
   "outputs": [
    {
     "data": {
      "text/plain": [
       "['yakovlev_mean0.9438_median0.9464_std0.0132_all.pickle']"
      ]
     },
     "execution_count": 5,
     "metadata": {},
     "output_type": "execute_result"
    }
   ],
   "source": [
    "os.listdir('../input/fraud-kirill-yakovlev-9438')"
   ]
  },
  {
   "cell_type": "code",
   "execution_count": 6,
   "metadata": {},
   "outputs": [],
   "source": [
    "kirill_preds = read_from_disk('../input/fraud-kirill-yakovlev-9438', 'yakovlev_mean0.9438_median0.9464_std0.0132_all.pickle')"
   ]
  },
  {
   "cell_type": "code",
   "execution_count": 7,
   "metadata": {},
   "outputs": [
    {
     "data": {
      "text/plain": [
       "{'oof': array([[0.01104611],\n",
       "        [0.00654405],\n",
       "        [0.00262107],\n",
       "        ...,\n",
       "        [0.00211418],\n",
       "        [0.02492638],\n",
       "        [0.00795693]]), 'prediction': array([[0.0005176 ],\n",
       "        [0.00332938],\n",
       "        [0.00165743],\n",
       "        ...,\n",
       "        [0.00522938],\n",
       "        [0.00925344],\n",
       "        [0.00540673]]), 'prediction_folds': array([[0.00047298, 0.00044827, 0.00051444, 0.00070141, 0.00062471,\n",
       "         0.00034381],\n",
       "        [0.00255368, 0.00375722, 0.00259144, 0.00420637, 0.00380816,\n",
       "         0.00305941],\n",
       "        [0.00164968, 0.00160534, 0.00165364, 0.0015689 , 0.00187722,\n",
       "         0.00158978],\n",
       "        ...,\n",
       "        [0.00561027, 0.0043187 , 0.00447416, 0.00526921, 0.00551344,\n",
       "         0.00619049],\n",
       "        [0.00782586, 0.01071592, 0.00976611, 0.01382718, 0.00712754,\n",
       "         0.00625805],\n",
       "        [0.00688522, 0.00411063, 0.00545405, 0.00727351, 0.00546601,\n",
       "         0.003251  ]]), 'scores': [0.9168432093484126,\n",
       "  0.9475702867711033,\n",
       "  0.945206647182937,\n",
       "  0.9428825376800377,\n",
       "  0.9505816161353111,\n",
       "  0.9598586887050868], 'model': LGBMClassifier(bagging_seed=11, boosting_type='gbdt', class_weight=None,\n",
       "                colsample_bytree=0.3, importance_type='split',\n",
       "                learning_rate=0.001, max_depth=-1, metric='auc',\n",
       "                min_child_samples=2, min_child_weight=0.001, min_split_gain=0.0,\n",
       "                n_estimators=30000, n_jobs=11, num_leaves=192,\n",
       "                objective='binary', random_state=None, reg_alpha=0.7,\n",
       "                reg_lambda=0.7, silent=True, subsample=0.99,\n",
       "                subsample_for_bin=200000, subsample_freq=3, verbosity=-1), 'feature_importance':             feature   importance  fold\n",
       " 0                C1  1260.333333     1\n",
       " 1               C10   292.333333     1\n",
       " 2        C10_fq_enc   198.833333     1\n",
       " 3               C11  1008.166667     1\n",
       " 4        C11_fq_enc   808.000000     1\n",
       " ..              ...          ...   ...\n",
       " 806   D1_count_full   683.333333     6\n",
       " 807  D10_count_full   375.333333     6\n",
       " 808   C1_count_full  1091.833333     6\n",
       " 809  C13_count_full  1345.833333     6\n",
       " 810   D9_count_full  1310.666667     6\n",
       " \n",
       " [4866 rows x 3 columns], 'top_columns': Index(['uid4_D2_std', 'uid4_TransactionAmt_std', 'uid4_D3_mean', 'card1',\n",
       "        'uid4_D2_mean', 'uid4_D11_std', 'product_type_DT_D', 'uid4_D5_mean',\n",
       "        'uid4_D9_mean', 'uid4_D15_std', 'uid4_D3_std', 'uid3_D8_mean',\n",
       "        'D15_DT_D_std_score', 'uid4_D4_std', 'uid5_D4_std',\n",
       "        'D10_DT_D_std_score', 'uid3_D9_mean', 'addr1', 'uid3_D4_std',\n",
       "        'uid4_D8_mean', 'uid3_D5_std', 'uid5_D8_mean', 'uid4_D5_std',\n",
       "        'uid3_D9_std', 'TransactionAmt_h', 'D15_DT_W_std_score', 'C13',\n",
       "        'TransactionAmt_to_std_card1', 'uid4_D4_mean', 'uid5_D3_std',\n",
       "        'uid5_TransactionAmt_std', 'product_type_DT_W',\n",
       "        'TransactionAmt_to_mean_card1', 'uid3_D15_std', 'TransactionID_ctn_h',\n",
       "        'TransactionID_ctn_d', 'uid5_D9_mean', 'id_20', 'uid5_D5_mean',\n",
       "        'uid4_D1_std', 'D4_DT_D_std_score', 'uid5_D3_mean', 'product_type_DT_M',\n",
       "        'uid5_D5_std', 'D8_DT_D_std_score', 'uid5_D2_std', 'uid4_D11_mean',\n",
       "        'uid3_D5_mean', 'uid4_D10_std', 'uid5_D15_std'],\n",
       "       dtype='object', name='feature')}"
      ]
     },
     "execution_count": 7,
     "metadata": {},
     "output_type": "execute_result"
    }
   ],
   "source": [
    "kirill_preds"
   ]
  },
  {
   "cell_type": "code",
   "execution_count": 8,
   "metadata": {},
   "outputs": [
    {
     "name": "stdout",
     "output_type": "stream",
     "text": [
      "(137321,)\n",
      "(92585,)\n",
      "(86021,)\n",
      "(101632,)\n",
      "(83655,)\n",
      "(89326,)\n"
     ]
    }
   ],
   "source": [
    "for fold_n, month in enumerate(np.unique(dt_m)):\n",
    "    X_val = df_train[dt_m.isin([month])]\n",
    "    y_val = kirill_preds['oof'][:, 0][X_val.index]\n",
    "    print(y_val.shape)\n",
    "    save_to_disk(y_val, 'y_pred_valid_fold{}.pkl'.format(fold_n))"
   ]
  },
  {
   "cell_type": "markdown",
   "metadata": {},
   "source": [
    "Order of months: 12\n",
    "3\n",
    "1\n",
    "5\n",
    "2\n",
    "4"
   ]
  },
  {
   "cell_type": "code",
   "execution_count": 9,
   "metadata": {},
   "outputs": [
    {
     "data": {
      "text/plain": [
       "(506691, 6)"
      ]
     },
     "execution_count": 9,
     "metadata": {},
     "output_type": "execute_result"
    }
   ],
   "source": [
    "kirill_preds['prediction_folds'].shape"
   ]
  },
  {
   "cell_type": "code",
   "execution_count": 10,
   "metadata": {},
   "outputs": [],
   "source": [
    "y_test = kirill_preds['prediction_folds']\n",
    "y_test_array = [y_test[:, 0], y_test[:, 2], y_test[:, 4], y_test[:, 1], y_test[:, 5], y_test[:, 3]]\n",
    "\n",
    "for fold_n in range(6):\n",
    "    save_to_disk(y_test_array[fold_n], 'y_pred_test_fold{}.pkl'.format(fold_n))"
   ]
  }
 ],
 "metadata": {
  "kernelspec": {
   "display_name": "Python 3",
   "language": "python",
   "name": "python3"
  },
  "language_info": {
   "codemirror_mode": {
    "name": "ipython",
    "version": 3
   },
   "file_extension": ".py",
   "mimetype": "text/x-python",
   "name": "python",
   "nbconvert_exporter": "python",
   "pygments_lexer": "ipython3",
   "version": "3.6.6"
  }
 },
 "nbformat": 4,
 "nbformat_minor": 1
}

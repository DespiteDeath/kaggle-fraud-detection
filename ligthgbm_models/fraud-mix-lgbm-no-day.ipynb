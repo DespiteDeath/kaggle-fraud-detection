{
 "cells": [
  {
   "cell_type": "code",
   "execution_count": 1,
   "metadata": {},
   "outputs": [],
   "source": [
    "# safe downcast\n",
    "def sd(col, max_loss_limit=0.001, avg_loss_limit=0.001, na_loss_limit=0, n_uniq_loss_limit=0, fillna=0):\n",
    "    \"\"\"\n",
    "    max_loss_limit - don't allow any float to lose precision more than this value. Any values are ok for GBT algorithms as long as you don't unique values.\n",
    "                     See https://en.wikipedia.org/wiki/Half-precision_floating-point_format#Precision_limitations_on_decimal_values_in_[0,_1]\n",
    "    avg_loss_limit - same but calculates avg throughout the series.\n",
    "    na_loss_limit - not really useful.\n",
    "    n_uniq_loss_limit - very important parameter. If you have a float field with very high cardinality you can set this value to something like n_records * 0.01 in order to allow some field relaxing.\n",
    "    \"\"\"\n",
    "    is_float = str(col.dtypes)[:5] == 'float'\n",
    "    na_count = col.isna().sum()\n",
    "    n_uniq = col.nunique(dropna=False)\n",
    "    try_types = ['float16', 'float32']\n",
    "\n",
    "    if na_count <= na_loss_limit:\n",
    "        try_types = ['int8', 'int16', 'float16', 'int32', 'float32']\n",
    "\n",
    "    for type in try_types:\n",
    "        col_tmp = col\n",
    "\n",
    "        # float to int conversion => try to round to minimize casting error\n",
    "        if is_float and (str(type)[:3] == 'int'):\n",
    "            col_tmp = col_tmp.copy().fillna(fillna).round()\n",
    "\n",
    "        col_tmp = col_tmp.astype(type)\n",
    "        max_loss = (col_tmp - col).abs().max()\n",
    "        avg_loss = (col_tmp - col).abs().mean()\n",
    "        na_loss = np.abs(na_count - col_tmp.isna().sum())\n",
    "        n_uniq_loss = np.abs(n_uniq - col_tmp.nunique(dropna=False))\n",
    "\n",
    "        if max_loss <= max_loss_limit and avg_loss <= avg_loss_limit and na_loss <= na_loss_limit and n_uniq_loss <= n_uniq_loss_limit:\n",
    "            return col_tmp\n",
    "\n",
    "    # field can't be converted\n",
    "    return col\n",
    "\n",
    "\n",
    "def reduce_mem_usage(df, deep=True, verbose=False, obj_to_cat=False):\n",
    "    numerics = ['int16', 'uint16', 'int32', 'uint32', 'int64', 'uint64', 'float16', 'float32', 'float64']\n",
    "    start_mem = df.memory_usage(deep=deep).sum() / 1024 ** 2\n",
    "    for col in df.columns:\n",
    "        col_type = df[col].dtypes\n",
    "\n",
    "        # collect stats\n",
    "        na_count = df[col].isna().sum()\n",
    "        n_uniq = df[col].nunique(dropna=False)\n",
    "        \n",
    "        # numerics\n",
    "        if col_type in numerics:\n",
    "            df[col] = sd(df[col])\n",
    "\n",
    "        # strings\n",
    "        if (col_type == 'object') and obj_to_cat:\n",
    "            df[col] = df[col].astype('category')\n",
    "        \n",
    "        if verbose:\n",
    "            print(f'Column {col}: {col_type} -> {df[col].dtypes}, na_count={na_count}, n_uniq={n_uniq}')\n",
    "        new_na_count = df[col].isna().sum()\n",
    "        if (na_count != new_na_count):\n",
    "            print(f'Warning: column {col}, {col_type} -> {df[col].dtypes} lost na values. Before: {na_count}, after: {new_na_count}')\n",
    "        new_n_uniq = df[col].nunique(dropna=False)\n",
    "        if (n_uniq != new_n_uniq):\n",
    "            print(f'Warning: column {col}, {col_type} -> {df[col].dtypes} lost unique values. Before: {n_uniq}, after: {new_n_uniq}')\n",
    "\n",
    "    end_mem = df.memory_usage(deep=deep).sum() / 1024 ** 2\n",
    "    percent = 100 * (start_mem - end_mem) / start_mem\n",
    "    if verbose:\n",
    "        print('Mem. usage decreased from {:5.2f} Mb to {:5.2f} Mb ({:.1f}% reduction)'.format(start_mem, end_mem, percent))\n",
    "    return df"
   ]
  },
  {
   "cell_type": "markdown",
   "metadata": {},
   "source": [
    "The ideas and a lot of code was copied from other scripts. It's a mix!!"
   ]
  },
  {
   "cell_type": "code",
   "execution_count": 2,
   "metadata": {},
   "outputs": [
    {
     "name": "stdout",
     "output_type": "stream",
     "text": [
      "/kaggle/input/ieee-fraud-detection/test_identity.csv\n",
      "/kaggle/input/ieee-fraud-detection/sample_submission.csv\n",
      "/kaggle/input/ieee-fraud-detection/train_identity.csv\n",
      "/kaggle/input/ieee-fraud-detection/train_transaction.csv\n",
      "/kaggle/input/ieee-fraud-detection/test_transaction.csv\n"
     ]
    }
   ],
   "source": [
    "import numpy as np\n",
    "import pandas as pd\n",
    "import matplotlib.pyplot as plt\n",
    "import seaborn as sns\n",
    "import lightgbm as lgb\n",
    "pd.set_option('display.max_columns', 1000)\n",
    "import warnings\n",
    "warnings.filterwarnings('ignore')\n",
    "from sklearn.metrics import roc_auc_score\n",
    "from sklearn.preprocessing import LabelEncoder\n",
    "from sklearn.model_selection import KFold\n",
    "import lightgbm as lgb\n",
    "import gc\n",
    "import datetime\n",
    "import os\n",
    "for dirname, _, filenames in os.walk('/kaggle/input'):\n",
    "    for filename in filenames:\n",
    "        print(os.path.join(dirname, filename))\n",
    "sns.set()\n",
    "\n",
    "import pickle\n",
    "def save_to_disk(obj, filename):\n",
    "    with open(filename, 'wb') as handle:\n",
    "        pickle.dump(obj, handle, protocol=pickle.HIGHEST_PROTOCOL)\n",
    "\n",
    "%matplotlib inline"
   ]
  },
  {
   "cell_type": "markdown",
   "metadata": {},
   "source": [
    "# Read Data and Merge"
   ]
  },
  {
   "cell_type": "code",
   "execution_count": 3,
   "metadata": {},
   "outputs": [
    {
     "name": "stdout",
     "output_type": "stream",
     "text": [
      "Successfully loaded train_identity\n",
      "Successfully loaded train_transaction\n",
      "Successfully loaded test_identity\n",
      "Successfully loaded test_transaction\n",
      "Successfully loaded sample_submisssion\n",
      "Data was successfully loades!\n",
      "Merging data....\n",
      "Data was successfully merged!\n",
      "Train dataset has 590540 rows and 433 columns\n",
      "Test dataset has 506691 rows and 432 columns\n"
     ]
    }
   ],
   "source": [
    "train_identity = pd.read_csv('/kaggle/input/ieee-fraud-detection/train_identity.csv', index_col = 'TransactionID')\n",
    "print('Successfully loaded train_identity')\n",
    "\n",
    "train_transaction = pd.read_csv('/kaggle/input/ieee-fraud-detection/train_transaction.csv', index_col = 'TransactionID')\n",
    "print('Successfully loaded train_transaction')\n",
    "\n",
    "test_identity = pd.read_csv('/kaggle/input/ieee-fraud-detection/test_identity.csv', index_col = 'TransactionID')\n",
    "print('Successfully loaded test_identity')\n",
    "\n",
    "test_transaction = pd.read_csv('/kaggle/input/ieee-fraud-detection/test_transaction.csv', index_col = 'TransactionID')\n",
    "print('Successfully loaded test_transaction')\n",
    "\n",
    "sub = pd.read_csv('/kaggle/input/ieee-fraud-detection/sample_submission.csv')\n",
    "print('Successfully loaded sample_submisssion')\n",
    "\n",
    "print('Data was successfully loades!')\n",
    "\n",
    "print('Merging data....')\n",
    "train = train_transaction.merge(train_identity, how = 'left', left_index = True, right_index = True)\n",
    "test = test_transaction.merge(test_identity, how = 'left', left_index = True, right_index = True)\n",
    "\n",
    "print('Data was successfully merged!')\n",
    "\n",
    "del train_identity, train_transaction, test_identity, test_transaction\n",
    "\n",
    "print('Train dataset has {} rows and {} columns'.format(train.shape[0], train.shape[1]))\n",
    "print('Test dataset has {} rows and {} columns'.format(test.shape[0], test.shape[1]))"
   ]
  },
  {
   "cell_type": "markdown",
   "metadata": {},
   "source": [
    "We have a lot of features, let's start exploring our dataset."
   ]
  },
  {
   "cell_type": "markdown",
   "metadata": {},
   "source": [
    "# Model and Feature Engineering"
   ]
  },
  {
   "cell_type": "code",
   "execution_count": 4,
   "metadata": {},
   "outputs": [],
   "source": [
    "train_copy = train.copy()\n",
    "test_copy = test.copy()"
   ]
  },
  {
   "cell_type": "code",
   "execution_count": 5,
   "metadata": {},
   "outputs": [],
   "source": [
    "def id_split(dataframe):\n",
    "    dataframe['device_name'] = dataframe['DeviceInfo'].str.split('/', expand=True)[0]\n",
    "    dataframe['device_version'] = dataframe['DeviceInfo'].str.split('/', expand=True)[1]\n",
    "\n",
    "    dataframe['OS_id_30'] = dataframe['id_30'].str.split(' ', expand=True)[0]\n",
    "    dataframe['version_id_30'] = dataframe['id_30'].str.split(' ', expand=True)[1]\n",
    "\n",
    "    dataframe['browser_id_31'] = dataframe['id_31'].str.split(' ', expand=True)[0]\n",
    "    dataframe['version_id_31'] = dataframe['id_31'].str.split(' ', expand=True)[1]\n",
    "\n",
    "    dataframe['screen_width'] = dataframe['id_33'].str.split('x', expand=True)[0]\n",
    "    dataframe['screen_height'] = dataframe['id_33'].str.split('x', expand=True)[1]\n",
    "\n",
    "    dataframe['id_34'] = dataframe['id_34'].str.split(':', expand=True)[1]\n",
    "    dataframe['id_23'] = dataframe['id_23'].str.split(':', expand=True)[1]\n",
    "\n",
    "    dataframe.loc[dataframe['device_name'].str.contains('SM', na=False), 'device_name'] = 'Samsung'\n",
    "    dataframe.loc[dataframe['device_name'].str.contains('SAMSUNG', na=False), 'device_name'] = 'Samsung'\n",
    "    dataframe.loc[dataframe['device_name'].str.contains('GT-', na=False), 'device_name'] = 'Samsung'\n",
    "    dataframe.loc[dataframe['device_name'].str.contains('Moto G', na=False), 'device_name'] = 'Motorola'\n",
    "    dataframe.loc[dataframe['device_name'].str.contains('Moto', na=False), 'device_name'] = 'Motorola'\n",
    "    dataframe.loc[dataframe['device_name'].str.contains('moto', na=False), 'device_name'] = 'Motorola'\n",
    "    dataframe.loc[dataframe['device_name'].str.contains('LG-', na=False), 'device_name'] = 'LG'\n",
    "    dataframe.loc[dataframe['device_name'].str.contains('rv:', na=False), 'device_name'] = 'RV'\n",
    "    dataframe.loc[dataframe['device_name'].str.contains('HUAWEI', na=False), 'device_name'] = 'Huawei'\n",
    "    dataframe.loc[dataframe['device_name'].str.contains('ALE-', na=False), 'device_name'] = 'Huawei'\n",
    "    dataframe.loc[dataframe['device_name'].str.contains('-L', na=False), 'device_name'] = 'Huawei'\n",
    "    dataframe.loc[dataframe['device_name'].str.contains('Blade', na=False), 'device_name'] = 'ZTE'\n",
    "    dataframe.loc[dataframe['device_name'].str.contains('BLADE', na=False), 'device_name'] = 'ZTE'\n",
    "    dataframe.loc[dataframe['device_name'].str.contains('Linux', na=False), 'device_name'] = 'Linux'\n",
    "    dataframe.loc[dataframe['device_name'].str.contains('XT', na=False), 'device_name'] = 'Sony'\n",
    "    dataframe.loc[dataframe['device_name'].str.contains('HTC', na=False), 'device_name'] = 'HTC'\n",
    "    dataframe.loc[dataframe['device_name'].str.contains('ASUS', na=False), 'device_name'] = 'Asus'\n",
    "    \n",
    "    dataframe.loc[dataframe.device_name.isin(dataframe.device_name.value_counts()[dataframe.device_name.value_counts() < 200].index), 'device_name'] = 'Others'\n",
    "    gc.collect()\n",
    "    return dataframe"
   ]
  },
  {
   "cell_type": "code",
   "execution_count": 6,
   "metadata": {},
   "outputs": [],
   "source": [
    "# split some features and replace values\n",
    "train = id_split(train)\n",
    "test = id_split(test)"
   ]
  },
  {
   "cell_type": "code",
   "execution_count": 7,
   "metadata": {},
   "outputs": [],
   "source": [
    "drop_features = ['id_24', 'id_25', 'id_08', 'id_07', 'id_21', 'id_26', 'id_27', 'id_23', 'id_22', 'id_18', 'id_34',\n",
    "                 'V141', 'V142', 'V146', 'V138', 'V151', 'V152', 'V333', 'V338', 'V339', 'V325', 'V332', 'V324',\n",
    "                 'V330', 'V329', 'V322', 'V323', 'V278', 'V277', 'V252', 'V253', 'V254', 'V260', 'V263', 'V249',\n",
    "                 'V266', 'V267', 'V268', 'V273', 'V276', 'V275', 'V247', 'V241', 'V240', 'V237', 'V235', 'V225',\n",
    "                 'V224', 'V224', 'V248', 'V211', 'V213', 'V196', 'V205', 'V183', 'V206', 'V192', 'V191', 'V181',\n",
    "                 'V193', 'V172', 'V173', 'V202', 'V203', 'V177', 'V179', 'V194', 'V185', 'V184', 'V175', 'V174', \n",
    "                 'V195', 'V197', 'V198', 'V208', 'V210', 'V227', 'V251', 'V250', 'V271', 'V270', 'V225', 'V89',\n",
    "                 'V256', 'V3', 'V1', 'V2', 'V4', 'V5', 'V6', 'V7', 'V8', 'V9', 'V10', 'V11', 'V46', 'V42', 'V43',\n",
    "                 'V47', 'V41', 'V39', 'V36', 'V35', 'V51', 'V50', 'V49', 'V48', 'V88', 'V93', 'V85', 'V84', 'V83',\n",
    "                 'V81', 'V90', 'V91', 'V92', 'V94', 'V80', 'V79', 'V75', 'V75', 'V68', 'V27', 'V28', 'V53', 'V74',\n",
    "                 'V73', 'V72', 'V66', 'V54', 'V67', 'V64', 'V63', 'V62', 'V61', 'V71', 'V69', 'V55', 'V60', 'V59',\n",
    "                 'V58', 'V57', 'V65', 'V56', 'V70', 'V22', 'V23', 'V24', 'V34', 'V33', 'V32', 'V31', 'V30', 'V29',\n",
    "                 'V26', 'V25', 'V15', 'V21', 'V14', 'V16', 'V17', 'V18', 'V19', 'V12', 'V20', 'V13', 'V301', 'V300',\n",
    "                 'V296', 'V289', 'V288', 'V114', 'V110', 'V105', 'V104', 'V103', 'V102', 'V101', 'V100', 'V95',\n",
    "                 'V99', 'V98', 'V107', 'V111', 'V112', 'V106', 'V113', 'V108', 'V134', 'V133', 'V135', 'V132',\n",
    "                 'V131', 'V130', 'V129', 'V126', 'V125', 'V124', 'V123', 'V122', 'V121', 'V120', 'V119', 'V118',\n",
    "                 'V117', 'V116', 'V115', 'V109', 'V294', 'V305', 'V304', 'V303', 'V302', 'V299', 'V298', 'V297',\n",
    "                 'V295', 'V293', 'V292', 'V291', 'V290', 'V287', 'V286', 'V285', 'V289', 'V279', 'V309', 'V316',\n",
    "                 'V318', 'V319', 'C3', 'M1']"
   ]
  },
  {
   "cell_type": "code",
   "execution_count": 8,
   "metadata": {},
   "outputs": [],
   "source": [
    "# filter usefull features with the e.d.a\n",
    "usefull_features = [col for col in train.columns if col not in drop_features]\n",
    "train = train[usefull_features]\n",
    "usefull_features.remove('isFraud')\n",
    "test = test[usefull_features]"
   ]
  },
  {
   "cell_type": "code",
   "execution_count": 9,
   "metadata": {},
   "outputs": [],
   "source": [
    "# New feature - log of transaction amount. ()\n",
    "train['TransactionAmt_Log'] = np.log(train['TransactionAmt'])\n",
    "test['TransactionAmt_Log'] = np.log(test['TransactionAmt'])\n",
    "\n",
    "# New feature - decimal part of the transaction amount.\n",
    "train['TransactionAmt_decimal'] = ((train['TransactionAmt'] - train['TransactionAmt'].astype(int)) * 1000).astype(int)\n",
    "test['TransactionAmt_decimal'] = ((test['TransactionAmt'] - test['TransactionAmt'].astype(int)) * 1000).astype(int)\n",
    "\n",
    "# Some arbitrary features interaction\n",
    "for feature in ['id_02__id_20', 'id_02__D8', 'D11__DeviceInfo', 'DeviceInfo__P_emaildomain', 'P_emaildomain__C2', \n",
    "                'card2__dist1', 'card1__card5', 'card2__id_20', 'card5__P_emaildomain', 'addr1__card1']:\n",
    "\n",
    "    f1, f2 = feature.split('__')\n",
    "    train[feature] = train[f1].astype(str) + '_' + train[f2].astype(str)\n",
    "    test[feature] = test[f1].astype(str) + '_' + test[f2].astype(str)\n",
    "\n",
    "    le = LabelEncoder()\n",
    "    le.fit(list(train[feature].astype(str).values) + list(test[feature].astype(str).values))\n",
    "    train[feature] = le.transform(list(train[feature].astype(str).values))\n",
    "    test[feature] = le.transform(list(test[feature].astype(str).values))"
   ]
  },
  {
   "cell_type": "code",
   "execution_count": 10,
   "metadata": {},
   "outputs": [],
   "source": [
    "emails = {'gmail': 'google', 'att.net': 'att', 'twc.com': 'spectrum', 'scranton.edu': 'other', \n",
    "          'optonline.net': 'other', 'hotmail.co.uk': 'microsoft', 'comcast.net': 'other', \n",
    "          'yahoo.com.mx': 'yahoo', 'yahoo.fr': 'yahoo', 'yahoo.es': 'yahoo', \n",
    "          'charter.net': 'spectrum', 'live.com': 'microsoft', 'aim.com': 'aol', \n",
    "          'hotmail.de': 'microsoft', 'centurylink.net': 'centurylink', 'gmail.com': 'google', \n",
    "          'me.com': 'apple', 'earthlink.net': 'other', 'gmx.de': 'other', 'web.de': 'other', \n",
    "          'cfl.rr.com': 'other', 'hotmail.com': 'microsoft', 'protonmail.com': 'other', \n",
    "          'hotmail.fr': 'microsoft', 'windstream.net': 'other', 'outlook.es': 'microsoft', \n",
    "          'yahoo.co.jp': 'yahoo', 'yahoo.de': 'yahoo', 'servicios-ta.com': 'other', \n",
    "          'netzero.net': 'other', 'suddenlink.net': 'other', 'roadrunner.com': 'other', \n",
    "          'sc.rr.com': 'other', 'live.fr': 'microsoft', 'verizon.net': 'yahoo', \n",
    "          'msn.com': 'microsoft', 'q.com': 'centurylink', 'prodigy.net.mx': 'att', \n",
    "          'frontier.com': 'yahoo', 'anonymous.com': 'other', 'rocketmail.com': 'yahoo', \n",
    "          'sbcglobal.net': 'att', 'frontiernet.net': 'yahoo', 'ymail.com': 'yahoo', \n",
    "          'outlook.com': 'microsoft', 'mail.com': 'other', 'bellsouth.net': 'other', \n",
    "          'embarqmail.com': 'centurylink', 'cableone.net': 'other', 'hotmail.es': 'microsoft', \n",
    "          'mac.com': 'apple', 'yahoo.co.uk': 'yahoo', 'netzero.com': 'other', \n",
    "          'yahoo.com': 'yahoo', 'live.com.mx': 'microsoft', 'ptd.net': 'other', \n",
    "          'cox.net': 'other', 'aol.com': 'aol', 'juno.com': 'other', 'icloud.com': 'apple'}\n",
    "us_emails = ['gmail', 'net', 'edu']"
   ]
  },
  {
   "cell_type": "code",
   "execution_count": 11,
   "metadata": {},
   "outputs": [],
   "source": [
    "for c in ['P_emaildomain', 'R_emaildomain']:\n",
    "    train[c + '_bin'] = train[c].map(emails)\n",
    "    test[c + '_bin'] = test[c].map(emails)\n",
    "    \n",
    "    train[c + '_suffix'] = train[c].map(lambda x: str(x).split('.')[-1])\n",
    "    test[c + '_suffix'] = test[c].map(lambda x: str(x).split('.')[-1])\n",
    "    \n",
    "    train[c + '_suffix'] = train[c + '_suffix'].map(lambda x: x if str(x) not in us_emails else 'us')\n",
    "    test[c + '_suffix'] = test[c + '_suffix'].map(lambda x: x if str(x) not in us_emails else 'us')"
   ]
  },
  {
   "cell_type": "code",
   "execution_count": 12,
   "metadata": {},
   "outputs": [],
   "source": [
    "START_DATE = datetime.datetime.strptime('2017-11-30', '%Y-%m-%d')\n",
    "def setTime(df):\n",
    "    df['TransactionDT'] = df['TransactionDT'].fillna(df['TransactionDT'].median())\n",
    "    # Temporary\n",
    "    df['DT'] = df['TransactionDT'].apply(lambda x: (START_DATE + datetime.timedelta(seconds = x)))\n",
    "#     df['DT_M'] = (df['DT'].dt.year-2017)*12 + df['DT'].dt.month\n",
    "#     df['DT_W'] = (df['DT'].dt.year-2017)*52 + df['DT'].dt.weekofyear\n",
    "#     df['DT_D'] = (df['DT'].dt.year-2017)*365 + df['DT'].dt.dayofyear\n",
    "    \n",
    "    df['DT_hour'] = df['DT'].dt.hour\n",
    "    df['DT_day_week'] = df['DT'].dt.dayofweek\n",
    "#     df['DT_day'] = df['DT'].dt.day\n",
    "    \n",
    "    # Lets transform D8 and D9 column\n",
    "    # As we almost sure it has connection with hours\n",
    "    df['D9_not_na'] = np.where(df['D9'].isna(),0,1)\n",
    "    df['D8_not_same_day'] = np.where(df['D8']>=1,1,0)\n",
    "    df['D8_D9_decimal_dist'] = df['D8'].fillna(0)-df['D8'].fillna(0).astype(int)\n",
    "    df['D8_D9_decimal_dist'] = ((df['D8_D9_decimal_dist']-df['D9'])**2)**0.5\n",
    "    df['D8'] = df['D8'].fillna(-1).astype(int)\n",
    "\n",
    "    return df\n",
    "    \n",
    "train=setTime(train)\n",
    "test=setTime(test)"
   ]
  },
  {
   "cell_type": "code",
   "execution_count": 13,
   "metadata": {},
   "outputs": [],
   "source": [
    "def addNewFeatures(data): \n",
    "    data['uid'] = data['card1'].astype(str)+'_'+data['card2'].astype(str)\n",
    "\n",
    "    data['uid2'] = data['uid'].astype(str)+'_'+data['card3'].astype(str)+'_'+data['card5'].astype(str)\n",
    "\n",
    "    data['uid3'] = data['uid2'].astype(str)+'_'+data['addr1'].astype(str)+'_'+data['addr2'].astype(str)\n",
    "    \n",
    "    return data"
   ]
  },
  {
   "cell_type": "code",
   "execution_count": 14,
   "metadata": {},
   "outputs": [],
   "source": [
    "train = addNewFeatures(train)\n",
    "test = addNewFeatures(test)"
   ]
  },
  {
   "cell_type": "code",
   "execution_count": 15,
   "metadata": {},
   "outputs": [],
   "source": [
    "i_cols = ['card2','card3','card5','uid','uid2','uid3']\n",
    "\n",
    "for col in i_cols:\n",
    "    for agg_type in ['mean','std']:\n",
    "        new_col_name = col+'_TransactionAmt_'+agg_type\n",
    "        temp_df = pd.concat([train[[col, 'TransactionAmt']], test[[col,'TransactionAmt']]])\n",
    "        #temp_df['TransactionAmt'] = temp_df['TransactionAmt'].astype(int)\n",
    "        temp_df = temp_df.groupby([col])['TransactionAmt'].agg([agg_type]).reset_index().rename(\n",
    "                                                columns={agg_type: new_col_name})\n",
    "\n",
    "        temp_df.index = list(temp_df[col])\n",
    "        temp_df = temp_df[new_col_name].to_dict()   \n",
    "\n",
    "        train[new_col_name] = train[col].map(temp_df)\n",
    "        test[new_col_name]  = test[col].map(temp_df)"
   ]
  },
  {
   "cell_type": "code",
   "execution_count": 16,
   "metadata": {},
   "outputs": [],
   "source": [
    "train = train.replace(np.inf,999)\n",
    "test = test.replace(np.inf,999)"
   ]
  },
  {
   "cell_type": "code",
   "execution_count": 17,
   "metadata": {},
   "outputs": [],
   "source": [
    "i_cols = ['card1','card2','card3','card5',\n",
    "          'C1','C2','C4','C5','C6','C7','C8','C9','C10','C11','C12','C13','C14',\n",
    "          'D1','D2','D3','D4','D5','D6','D7','D8',\n",
    "          'addr1','addr2',\n",
    "          'dist1','dist2',\n",
    "          'P_emaildomain', 'R_emaildomain',\n",
    "          'DeviceInfo','device_name',\n",
    "          'id_30','id_33',\n",
    "          'uid','uid2','uid3',\n",
    "         ]\n",
    "\n",
    "for col in i_cols:\n",
    "    temp_df = pd.concat([train[[col]], test[[col]]])\n",
    "    fq_encode = temp_df[col].value_counts(dropna=False).to_dict()   \n",
    "    train[col+'_fq_enc'] = train[col].map(fq_encode)\n",
    "    test[col+'_fq_enc']  = test[col].map(fq_encode)\n",
    "\n",
    "\n",
    "# for col in ['DT_M','DT_W','DT_D']:\n",
    "#     temp_df = pd.concat([train[[col]], test[[col]]])\n",
    "#     fq_encode = temp_df[col].value_counts().to_dict()\n",
    "            \n",
    "#     train[col+'_total'] = train[col].map(fq_encode)\n",
    "#     test[col+'_total']  = test[col].map(fq_encode)\n",
    "\n",
    "# periods = ['DT_M','DT_W','DT_D']\n",
    "# i_cols = ['uid']\n",
    "# for period in periods:\n",
    "#     for col in i_cols:\n",
    "#         new_column = col + '_' + period\n",
    "            \n",
    "#         temp_df = pd.concat([train[[col,period]], test[[col,period]]])\n",
    "#         temp_df[new_column] = temp_df[col].astype(str) + '_' + (temp_df[period]).astype(str)\n",
    "#         fq_encode = temp_df[new_column].value_counts().to_dict()\n",
    "            \n",
    "#         train[new_column] = (train[col].astype(str) + '_' + train[period].astype(str)).map(fq_encode)\n",
    "#         test[new_column]  = (test[col].astype(str) + '_' + test[period].astype(str)).map(fq_encode)\n",
    "        \n",
    "#         train[new_column] /= train[period+'_total']\n",
    "#         test[new_column]  /= test[period+'_total']"
   ]
  },
  {
   "cell_type": "code",
   "execution_count": 18,
   "metadata": {},
   "outputs": [],
   "source": [
    "TransactionDT1 = train['TransactionDT'].apply(lambda x: (START_DATE + datetime.timedelta(seconds = x)))\n",
    "dt_m = TransactionDT1.dt.date.astype('str').str[:7]"
   ]
  },
  {
   "cell_type": "code",
   "execution_count": 19,
   "metadata": {},
   "outputs": [],
   "source": [
    "# drop noisy columns    \n",
    "train.drop(['TransactionDT', 'uid','uid2','uid3', 'DT', 'DT_hour','DT_day_week',\n",
    "            'id_30','id_31','id_33', 'D1', 'D2', 'D9'], axis = 1, inplace = True)\n",
    "test.drop(['TransactionDT', 'uid','uid2','uid3', 'DT', 'DT_hour','DT_day_week', 'id_30','id_31','id_33', 'D1', 'D2', 'D9'], axis = 1, inplace = True)"
   ]
  },
  {
   "cell_type": "code",
   "execution_count": 20,
   "metadata": {},
   "outputs": [],
   "source": [
    "for col in train.columns:\n",
    "    if train[col].dtype == 'object':\n",
    "        le = LabelEncoder()\n",
    "        le.fit(list(train[col].astype(str).values) + list(test[col].astype(str).values))\n",
    "        train[col] = le.transform(list(train[col].astype(str).values))\n",
    "        test[col] = le.transform(list(test[col].astype(str).values))"
   ]
  },
  {
   "cell_type": "code",
   "execution_count": 21,
   "metadata": {},
   "outputs": [],
   "source": [
    "def agg_features(df):\n",
    "    columns_a = ['TransactionAmt', 'id_02', 'D15']\n",
    "    columns_b = ['card1', 'card4', 'addr1']\n",
    "    for col_a in columns_a:\n",
    "        for col_b in columns_b:\n",
    "            df[f'{col_a}_to_mean_{col_b}'] = df[col_a] / df.groupby([col_b])[col_a].transform('mean')\n",
    "            df[f'{col_a}_to_std_{col_b}'] = df[col_a] / df.groupby([col_b])[col_a].transform('std')\n",
    "    return df\n",
    "\n",
    "test = agg_features(test)\n",
    "train = agg_features(train)"
   ]
  },
  {
   "cell_type": "code",
   "execution_count": 22,
   "metadata": {},
   "outputs": [],
   "source": [
    "def feature_cents(df):\n",
    "    return (np.modf(df['TransactionAmt'])[0] * 1000).round(5).astype(np.uint16)\n",
    "\n",
    "train['Cents'] = feature_cents(train)\n",
    "test['Cents'] = feature_cents(test)"
   ]
  },
  {
   "cell_type": "code",
   "execution_count": 23,
   "metadata": {},
   "outputs": [],
   "source": [
    "def feature_ProductCD_W_cents(df):\n",
    "    a = ((df['Cents'] == 0) | (df['Cents'] == 500) | (df['Cents'] == 950))\n",
    "    b = df['ProductCD'] == 'W'\n",
    "    return (a & b).astype(np.uint8)\n",
    "\n",
    "train['Cents_ProductCD_W'] = feature_cents(train)\n",
    "test['Cents_ProductCD_W'] = feature_cents(test)"
   ]
  },
  {
   "cell_type": "code",
   "execution_count": 24,
   "metadata": {},
   "outputs": [],
   "source": [
    "train = reduce_mem_usage(train)\n",
    "test = reduce_mem_usage(test)"
   ]
  },
  {
   "cell_type": "code",
   "execution_count": 25,
   "metadata": {
    "_kg_hide-output": true
   },
   "outputs": [
    {
     "name": "stdout",
     "output_type": "stream",
     "text": [
      "['isFraud', 'TransactionAmt', 'ProductCD', 'card1', 'card2', 'card3', 'card4', 'card5', 'card6', 'addr1', 'addr2', 'dist1', 'dist2', 'P_emaildomain', 'R_emaildomain', 'C1', 'C2', 'C4', 'C5', 'C6', 'C7', 'C8', 'C9', 'C10', 'C11', 'C12', 'C13', 'C14', 'D3', 'D4', 'D5', 'D6', 'D7', 'D8', 'D10', 'D11', 'D12', 'D13', 'D14', 'D15', 'M2', 'M3', 'M4', 'M5', 'M6', 'M7', 'M8', 'M9', 'V37', 'V38', 'V40', 'V44', 'V45', 'V52', 'V76', 'V77', 'V78', 'V82', 'V86', 'V87', 'V96', 'V97', 'V127', 'V128', 'V136', 'V137', 'V139', 'V140', 'V143', 'V144', 'V145', 'V147', 'V148', 'V149', 'V150', 'V153', 'V154', 'V155', 'V156', 'V157', 'V158', 'V159', 'V160', 'V161', 'V162', 'V163', 'V164', 'V165', 'V166', 'V167', 'V168', 'V169', 'V170', 'V171', 'V176', 'V178', 'V180', 'V182', 'V186', 'V187', 'V188', 'V189', 'V190', 'V199', 'V200', 'V201', 'V204', 'V207', 'V209', 'V212', 'V214', 'V215', 'V216', 'V217', 'V218', 'V219', 'V220', 'V221', 'V222', 'V223', 'V226', 'V228', 'V229', 'V230', 'V231', 'V232', 'V233', 'V234', 'V236', 'V238', 'V239', 'V242', 'V243', 'V244', 'V245', 'V246', 'V255', 'V257', 'V258', 'V259', 'V261', 'V262', 'V264', 'V265', 'V269', 'V272', 'V274', 'V280', 'V281', 'V282', 'V283', 'V284', 'V306', 'V307', 'V308', 'V310', 'V311', 'V312', 'V313', 'V314', 'V315', 'V317', 'V320', 'V321', 'V326', 'V327', 'V328', 'V331', 'V334', 'V335', 'V336', 'V337', 'id_01', 'id_02', 'id_03', 'id_04', 'id_05', 'id_06', 'id_09', 'id_10', 'id_11', 'id_12', 'id_13', 'id_14', 'id_15', 'id_16', 'id_17', 'id_19', 'id_20', 'id_28', 'id_29', 'id_32', 'id_35', 'id_36', 'id_37', 'id_38', 'DeviceType', 'DeviceInfo', 'device_name', 'device_version', 'OS_id_30', 'version_id_30', 'browser_id_31', 'version_id_31', 'screen_width', 'screen_height', 'TransactionAmt_Log', 'TransactionAmt_decimal', 'id_02__id_20', 'id_02__D8', 'D11__DeviceInfo', 'DeviceInfo__P_emaildomain', 'P_emaildomain__C2', 'card2__dist1', 'card1__card5', 'card2__id_20', 'card5__P_emaildomain', 'addr1__card1', 'P_emaildomain_bin', 'P_emaildomain_suffix', 'R_emaildomain_bin', 'R_emaildomain_suffix', 'D9_not_na', 'D8_not_same_day', 'D8_D9_decimal_dist', 'card2_TransactionAmt_mean', 'card2_TransactionAmt_std', 'card3_TransactionAmt_mean', 'card3_TransactionAmt_std', 'card5_TransactionAmt_mean', 'card5_TransactionAmt_std', 'uid_TransactionAmt_mean', 'uid_TransactionAmt_std', 'uid2_TransactionAmt_mean', 'uid2_TransactionAmt_std', 'uid3_TransactionAmt_mean', 'uid3_TransactionAmt_std', 'card1_fq_enc', 'card2_fq_enc', 'card3_fq_enc', 'card5_fq_enc', 'C1_fq_enc', 'C2_fq_enc', 'C4_fq_enc', 'C5_fq_enc', 'C6_fq_enc', 'C7_fq_enc', 'C8_fq_enc', 'C9_fq_enc', 'C10_fq_enc', 'C11_fq_enc', 'C12_fq_enc', 'C13_fq_enc', 'C14_fq_enc', 'D1_fq_enc', 'D2_fq_enc', 'D3_fq_enc', 'D4_fq_enc', 'D5_fq_enc', 'D6_fq_enc', 'D7_fq_enc', 'D8_fq_enc', 'addr1_fq_enc', 'addr2_fq_enc', 'dist1_fq_enc', 'dist2_fq_enc', 'P_emaildomain_fq_enc', 'R_emaildomain_fq_enc', 'DeviceInfo_fq_enc', 'device_name_fq_enc', 'id_30_fq_enc', 'id_33_fq_enc', 'uid_fq_enc', 'uid2_fq_enc', 'uid3_fq_enc', 'TransactionAmt_to_mean_card1', 'TransactionAmt_to_std_card1', 'TransactionAmt_to_mean_card4', 'TransactionAmt_to_std_card4', 'TransactionAmt_to_mean_addr1', 'TransactionAmt_to_std_addr1', 'id_02_to_mean_card1', 'id_02_to_std_card1', 'id_02_to_mean_card4', 'id_02_to_std_card4', 'id_02_to_mean_addr1', 'id_02_to_std_addr1', 'D15_to_mean_card1', 'D15_to_std_card1', 'D15_to_mean_card4', 'D15_to_std_card4', 'D15_to_mean_addr1', 'D15_to_std_addr1', 'Cents', 'Cents_ProductCD_W']\n"
     ]
    }
   ],
   "source": [
    "print(list(train.columns))"
   ]
  },
  {
   "cell_type": "code",
   "execution_count": 26,
   "metadata": {},
   "outputs": [
    {
     "name": "stdout",
     "output_type": "stream",
     "text": [
      "Our train set have 295 columns\n",
      "Our test set have 294 columns\n"
     ]
    },
    {
     "data": {
      "text/plain": [
       "0"
      ]
     },
     "execution_count": 26,
     "metadata": {},
     "output_type": "execute_result"
    }
   ],
   "source": [
    "X = train.drop(['isFraud'], axis = 1)\n",
    "y = train['isFraud']\n",
    "\n",
    "print('Our train set have {} columns'.format(train.shape[1]))\n",
    "print('Our test set have {} columns'.format(test.shape[1]))\n",
    "\n",
    "gc.collect()"
   ]
  },
  {
   "cell_type": "code",
   "execution_count": 27,
   "metadata": {},
   "outputs": [],
   "source": [
    "params = {\n",
    "                    'objective':'binary',\n",
    "                    'boosting_type':'gbdt',\n",
    "                    'metric':'auc',\n",
    "                    'n_jobs':-1,\n",
    "                    'learning_rate':0.005,\n",
    "                    'num_leaves': 2**8,\n",
    "                    'max_depth':-1,\n",
    "                    'tree_learner':'serial',\n",
    "                    'colsample_bytree': 0.7,\n",
    "                    'subsample_freq':1,\n",
    "                    'subsample':0.7,\n",
    "                    'n_estimators':100000,\n",
    "                    'max_bin':255,\n",
    "                    'verbose':-1,\n",
    "                    'random_state': 47,\n",
    "                    'early_stopping_rounds':100, \n",
    "                }"
   ]
  },
  {
   "cell_type": "code",
   "execution_count": 28,
   "metadata": {},
   "outputs": [
    {
     "name": "stdout",
     "output_type": "stream",
     "text": [
      "(453219, 294) (453219,) (137321, 294) (137321,)\n",
      "Training until validation scores don't improve for 100 rounds.\n",
      "[200]\ttraining's auc: 0.943468\tvalid_1's auc: 0.883683\n",
      "[400]\ttraining's auc: 0.965762\tvalid_1's auc: 0.895437\n",
      "[600]\ttraining's auc: 0.981638\tvalid_1's auc: 0.904041\n",
      "[800]\ttraining's auc: 0.989597\tvalid_1's auc: 0.909396\n",
      "[1000]\ttraining's auc: 0.993878\tvalid_1's auc: 0.913564\n",
      "[1200]\ttraining's auc: 0.996312\tvalid_1's auc: 0.916286\n",
      "[1400]\ttraining's auc: 0.997771\tvalid_1's auc: 0.918095\n",
      "[1600]\ttraining's auc: 0.998611\tvalid_1's auc: 0.919294\n",
      "[1800]\ttraining's auc: 0.999128\tvalid_1's auc: 0.920057\n",
      "[2000]\ttraining's auc: 0.999453\tvalid_1's auc: 0.920662\n",
      "[2200]\ttraining's auc: 0.999653\tvalid_1's auc: 0.921107\n",
      "[2400]\ttraining's auc: 0.999776\tvalid_1's auc: 0.921466\n",
      "[2600]\ttraining's auc: 0.999861\tvalid_1's auc: 0.921609\n",
      "Early stopping, best iteration is:\n",
      "[2615]\ttraining's auc: 0.999865\tvalid_1's auc: 0.921639\n",
      "Fold 1 | AUC: 0.921639236108881\n",
      "(497955, 294) (497955,) (92585, 294) (92585,)\n",
      "Training until validation scores don't improve for 100 rounds.\n",
      "[200]\ttraining's auc: 0.937044\tvalid_1's auc: 0.898727\n",
      "[400]\ttraining's auc: 0.962444\tvalid_1's auc: 0.914547\n",
      "[600]\ttraining's auc: 0.9799\tvalid_1's auc: 0.925704\n",
      "[800]\ttraining's auc: 0.988873\tvalid_1's auc: 0.932981\n",
      "[1000]\ttraining's auc: 0.993479\tvalid_1's auc: 0.936971\n",
      "[1200]\ttraining's auc: 0.996108\tvalid_1's auc: 0.939335\n",
      "[1400]\ttraining's auc: 0.997612\tvalid_1's auc: 0.940792\n",
      "[1600]\ttraining's auc: 0.998478\tvalid_1's auc: 0.941883\n",
      "[1800]\ttraining's auc: 0.99903\tvalid_1's auc: 0.942569\n",
      "[2000]\ttraining's auc: 0.999382\tvalid_1's auc: 0.943134\n",
      "[2200]\ttraining's auc: 0.999606\tvalid_1's auc: 0.943583\n",
      "[2400]\ttraining's auc: 0.999747\tvalid_1's auc: 0.943772\n",
      "[2600]\ttraining's auc: 0.99984\tvalid_1's auc: 0.944001\n",
      "[2800]\ttraining's auc: 0.999897\tvalid_1's auc: 0.94431\n",
      "[3000]\ttraining's auc: 0.999934\tvalid_1's auc: 0.944535\n",
      "[3200]\ttraining's auc: 0.999959\tvalid_1's auc: 0.944765\n",
      "[3400]\ttraining's auc: 0.999974\tvalid_1's auc: 0.944821\n",
      "Early stopping, best iteration is:\n",
      "[3387]\ttraining's auc: 0.999973\tvalid_1's auc: 0.944859\n",
      "Fold 2 | AUC: 0.9448581234641682\n",
      "(504519, 294) (504519,) (86021, 294) (86021,)\n",
      "Training until validation scores don't improve for 100 rounds.\n",
      "[200]\ttraining's auc: 0.937689\tvalid_1's auc: 0.917867\n",
      "[400]\ttraining's auc: 0.963197\tvalid_1's auc: 0.931392\n",
      "[600]\ttraining's auc: 0.979893\tvalid_1's auc: 0.938948\n",
      "[800]\ttraining's auc: 0.98874\tvalid_1's auc: 0.943178\n",
      "[1000]\ttraining's auc: 0.993298\tvalid_1's auc: 0.945521\n",
      "[1200]\ttraining's auc: 0.995926\tvalid_1's auc: 0.946776\n",
      "[1400]\ttraining's auc: 0.997424\tvalid_1's auc: 0.947459\n",
      "[1600]\ttraining's auc: 0.998347\tvalid_1's auc: 0.947742\n",
      "[1800]\ttraining's auc: 0.99894\tvalid_1's auc: 0.947983\n",
      "[2000]\ttraining's auc: 0.999304\tvalid_1's auc: 0.948063\n",
      "Early stopping, best iteration is:\n",
      "[1917]\ttraining's auc: 0.999169\tvalid_1's auc: 0.948115\n",
      "Fold 3 | AUC: 0.9481145548982097\n",
      "(488908, 294) (488908,) (101632, 294) (101632,)\n",
      "Training until validation scores don't improve for 100 rounds.\n",
      "[200]\ttraining's auc: 0.938603\tvalid_1's auc: 0.904116\n",
      "[400]\ttraining's auc: 0.964776\tvalid_1's auc: 0.920066\n",
      "[600]\ttraining's auc: 0.981476\tvalid_1's auc: 0.930412\n",
      "[800]\ttraining's auc: 0.990098\tvalid_1's auc: 0.936356\n",
      "[1000]\ttraining's auc: 0.99433\tvalid_1's auc: 0.939686\n",
      "[1200]\ttraining's auc: 0.996667\tvalid_1's auc: 0.941568\n",
      "[1400]\ttraining's auc: 0.997988\tvalid_1's auc: 0.942663\n",
      "[1600]\ttraining's auc: 0.998788\tvalid_1's auc: 0.943491\n",
      "[1800]\ttraining's auc: 0.999245\tvalid_1's auc: 0.943946\n",
      "[2000]\ttraining's auc: 0.999535\tvalid_1's auc: 0.944378\n",
      "[2200]\ttraining's auc: 0.99971\tvalid_1's auc: 0.944667\n",
      "[2400]\ttraining's auc: 0.99982\tvalid_1's auc: 0.944835\n",
      "Early stopping, best iteration is:\n",
      "[2426]\ttraining's auc: 0.99983\tvalid_1's auc: 0.94485\n",
      "Fold 4 | AUC: 0.9448499874640155\n",
      "(506885, 294) (506885,) (83655, 294) (83655,)\n",
      "Training until validation scores don't improve for 100 rounds.\n",
      "[200]\ttraining's auc: 0.936252\tvalid_1's auc: 0.904782\n",
      "[400]\ttraining's auc: 0.961488\tvalid_1's auc: 0.924076\n",
      "[600]\ttraining's auc: 0.978864\tvalid_1's auc: 0.937049\n",
      "[800]\ttraining's auc: 0.988043\tvalid_1's auc: 0.945081\n",
      "[1000]\ttraining's auc: 0.992779\tvalid_1's auc: 0.949399\n",
      "[1200]\ttraining's auc: 0.995562\tvalid_1's auc: 0.952069\n",
      "[1400]\ttraining's auc: 0.997221\tvalid_1's auc: 0.953723\n",
      "[1600]\ttraining's auc: 0.998235\tvalid_1's auc: 0.954562\n",
      "[1800]\ttraining's auc: 0.998881\tvalid_1's auc: 0.955047\n",
      "[2000]\ttraining's auc: 0.999274\tvalid_1's auc: 0.955581\n",
      "[2200]\ttraining's auc: 0.999514\tvalid_1's auc: 0.955897\n",
      "[2400]\ttraining's auc: 0.999683\tvalid_1's auc: 0.956319\n",
      "[2600]\ttraining's auc: 0.999792\tvalid_1's auc: 0.956493\n",
      "Early stopping, best iteration is:\n",
      "[2625]\ttraining's auc: 0.999804\tvalid_1's auc: 0.956523\n",
      "Fold 5 | AUC: 0.9565226350256275\n",
      "(501214, 294) (501214,) (89326, 294) (89326,)\n",
      "Training until validation scores don't improve for 100 rounds.\n",
      "[200]\ttraining's auc: 0.93873\tvalid_1's auc: 0.897136\n",
      "[400]\ttraining's auc: 0.962802\tvalid_1's auc: 0.912252\n",
      "[600]\ttraining's auc: 0.979272\tvalid_1's auc: 0.923573\n",
      "[800]\ttraining's auc: 0.988468\tvalid_1's auc: 0.931345\n",
      "[1000]\ttraining's auc: 0.993279\tvalid_1's auc: 0.935334\n",
      "[1200]\ttraining's auc: 0.995964\tvalid_1's auc: 0.937161\n",
      "[1400]\ttraining's auc: 0.997502\tvalid_1's auc: 0.938387\n",
      "[1600]\ttraining's auc: 0.99843\tvalid_1's auc: 0.939073\n",
      "[1800]\ttraining's auc: 0.999006\tvalid_1's auc: 0.939377\n",
      "[2000]\ttraining's auc: 0.999362\tvalid_1's auc: 0.939593\n",
      "Early stopping, best iteration is:\n",
      "[2026]\ttraining's auc: 0.999399\tvalid_1's auc: 0.939638\n",
      "Fold 6 | AUC: 0.939638279772219\n",
      "\n",
      "Mean AUC = 0.9426038027888535\n",
      "CPU times: user 12h 8min 42s, sys: 4min 41s, total: 12h 13min 24s\n",
      "Wall time: 3h 7min 14s\n"
     ]
    }
   ],
   "source": [
    "%%time\n",
    "\n",
    "columns = X.columns\n",
    "y_preds = np.zeros(test.shape[0])\n",
    "score = 0\n",
    "\n",
    "feature_importances = pd.DataFrame()\n",
    "feature_importances['feature'] = columns\n",
    "\n",
    "NFOLDS = len(np.unique(dt_m)) # 6\n",
    "\n",
    "for fold_n, month in enumerate(np.unique(dt_m)):\n",
    "    X_train, y_train = X[~dt_m.isin([month])][columns], y[~dt_m.isin([month])]\n",
    "    X_valid, y_valid = X[dt_m.isin([month])][columns], y[dt_m.isin([month])]\n",
    "    print(X_train.shape, y_train.shape, X_valid.shape, y_valid.shape)\n",
    "    \n",
    "    dtrain = lgb.Dataset(X_train, label=y_train)\n",
    "    dvalid = lgb.Dataset(X_valid, label=y_valid)\n",
    "\n",
    "    clf = lgb.train(params, dtrain, 10000, valid_sets = [dtrain, dvalid], verbose_eval=200, early_stopping_rounds=500)\n",
    "    \n",
    "    feature_importances[f'fold_{fold_n + 1}'] = clf.feature_importance()\n",
    "    \n",
    "    y_pred_valid = clf.predict(X_valid)\n",
    "    save_to_disk(y_pred_valid, 'y_pred_valid_fold{}.pkl'.format(fold_n))\n",
    "    print(f\"Fold {fold_n + 1} | AUC: {roc_auc_score(y_valid, y_pred_valid)}\")\n",
    "    \n",
    "    score += roc_auc_score(y_valid, y_pred_valid) / NFOLDS\n",
    "    \n",
    "    y_pred_test = clf.predict(test)\n",
    "    save_to_disk(y_pred_test, 'y_pred_test_fold{}.pkl'.format(fold_n))\n",
    "    y_preds += y_pred_test / NFOLDS\n",
    "    \n",
    "    del X_train, X_valid, y_train, y_valid\n",
    "    gc.collect()\n",
    "    \n",
    "print(f\"\\nMean AUC = {score}\")"
   ]
  },
  {
   "cell_type": "markdown",
   "metadata": {},
   "source": [
    "# Submission"
   ]
  },
  {
   "cell_type": "code",
   "execution_count": 29,
   "metadata": {},
   "outputs": [
    {
     "data": {
      "text/html": [
       "<div>\n",
       "<style scoped>\n",
       "    .dataframe tbody tr th:only-of-type {\n",
       "        vertical-align: middle;\n",
       "    }\n",
       "\n",
       "    .dataframe tbody tr th {\n",
       "        vertical-align: top;\n",
       "    }\n",
       "\n",
       "    .dataframe thead th {\n",
       "        text-align: right;\n",
       "    }\n",
       "</style>\n",
       "<table border=\"1\" class=\"dataframe\">\n",
       "  <thead>\n",
       "    <tr style=\"text-align: right;\">\n",
       "      <th></th>\n",
       "      <th>TransactionID</th>\n",
       "      <th>isFraud</th>\n",
       "    </tr>\n",
       "  </thead>\n",
       "  <tbody>\n",
       "    <tr>\n",
       "      <td>0</td>\n",
       "      <td>3663549</td>\n",
       "      <td>0.000525</td>\n",
       "    </tr>\n",
       "    <tr>\n",
       "      <td>1</td>\n",
       "      <td>3663550</td>\n",
       "      <td>0.002627</td>\n",
       "    </tr>\n",
       "    <tr>\n",
       "      <td>2</td>\n",
       "      <td>3663551</td>\n",
       "      <td>0.001490</td>\n",
       "    </tr>\n",
       "    <tr>\n",
       "      <td>3</td>\n",
       "      <td>3663552</td>\n",
       "      <td>0.001575</td>\n",
       "    </tr>\n",
       "    <tr>\n",
       "      <td>4</td>\n",
       "      <td>3663553</td>\n",
       "      <td>0.001855</td>\n",
       "    </tr>\n",
       "  </tbody>\n",
       "</table>\n",
       "</div>"
      ],
      "text/plain": [
       "   TransactionID   isFraud\n",
       "0        3663549  0.000525\n",
       "1        3663550  0.002627\n",
       "2        3663551  0.001490\n",
       "3        3663552  0.001575\n",
       "4        3663553  0.001855"
      ]
     },
     "execution_count": 29,
     "metadata": {},
     "output_type": "execute_result"
    }
   ],
   "source": [
    "submission = pd.read_csv('/kaggle/input/ieee-fraud-detection/sample_submission.csv')\n",
    "submission['isFraud'] = y_preds\n",
    "submission.head()"
   ]
  },
  {
   "cell_type": "code",
   "execution_count": 30,
   "metadata": {},
   "outputs": [],
   "source": [
    "submission.to_csv('submission.csv', index=False)"
   ]
  },
  {
   "cell_type": "code",
   "execution_count": 31,
   "metadata": {},
   "outputs": [
    {
     "data": {
      "image/png": "[encoded data removed]",
      "text/plain": [
       "<Figure size 1152x1152 with 1 Axes>"
      ]
     },
     "metadata": {
      "needs_background": "light"
     },
     "output_type": "display_data"
    }
   ],
   "source": [
    "feature_importances['average'] = feature_importances[[f'fold_{fold_n + 1}' for fold_n in range(NFOLDS)]].mean(axis=1)\n",
    "feature_importances.to_csv('feature_importances.csv')\n",
    "\n",
    "plt.figure(figsize=(16, 16))\n",
    "sns.barplot(data=feature_importances.sort_values(by='average', ascending=False).head(50), x='average', y='feature');\n",
    "plt.title('50 TOP feature importance over {} folds average'.format(NFOLDS));"
   ]
  }
 ],
 "metadata": {
  "kernelspec": {
   "display_name": "Python 3",
   "language": "python",
   "name": "python3"
  },
  "language_info": {
   "codemirror_mode": {
    "name": "ipython",
    "version": 3
   },
   "file_extension": ".py",
   "mimetype": "text/x-python",
   "name": "python",
   "nbconvert_exporter": "python",
   "pygments_lexer": "ipython3",
   "version": "3.6.6"
  }
 },
 "nbformat": 4,
 "nbformat_minor": 1
}

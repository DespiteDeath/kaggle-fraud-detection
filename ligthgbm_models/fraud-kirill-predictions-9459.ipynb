{
 "cells": [
  {
   "cell_type": "code",
   "execution_count": 1,
   "metadata": {
    "_cell_guid": "b1076dfc-b9ad-4769-8c92-a6c4dae69d19",
    "_uuid": "8f2839f25d086af736a60e9eeb907d3b93b6e0e5"
   },
   "outputs": [],
   "source": [
    "import datetime\n",
    "import numpy as np\n",
    "import os\n",
    "import pandas as pd\n",
    "import pickle\n",
    "\n",
    "def read_from_disk(path, filename):\n",
    "    with open(os.path.join(path, filename), 'rb') as handle:\n",
    "        return pickle.load(handle)\n",
    "    \n",
    "def save_to_disk(obj, filename):\n",
    "    with open(filename, 'wb') as handle:\n",
    "        pickle.dump(obj, handle, protocol=pickle.HIGHEST_PROTOCOL)"
   ]
  },
  {
   "cell_type": "code",
   "execution_count": 2,
   "metadata": {
    "_cell_guid": "79c7e3d0-c299-4dcb-8224-4455121ee9b0",
    "_uuid": "d629ff2d2480ee46fbb7e2d37f6b5fab8052498a"
   },
   "outputs": [
    {
     "data": {
      "text/plain": [
       "((590540, 394), (144233, 41))"
      ]
     },
     "execution_count": 2,
     "metadata": {},
     "output_type": "execute_result"
    }
   ],
   "source": [
    "trans_train = pd.read_csv('../input/ieee-fraud-detection/train_transaction.csv')\n",
    "id_train = pd.read_csv('../input/ieee-fraud-detection/train_identity.csv')\n",
    "trans_train.shape, id_train.shape"
   ]
  },
  {
   "cell_type": "code",
   "execution_count": 3,
   "metadata": {},
   "outputs": [
    {
     "data": {
      "text/plain": [
       "(590540, 434)"
      ]
     },
     "execution_count": 3,
     "metadata": {},
     "output_type": "execute_result"
    }
   ],
   "source": [
    "df_train = trans_train.merge(id_train, how='left', left_on='TransactionID', right_on='TransactionID')\n",
    "df_train.shape"
   ]
  },
  {
   "cell_type": "code",
   "execution_count": 4,
   "metadata": {},
   "outputs": [],
   "source": [
    "START_DATE = '2017-11-30'\n",
    "startdate = datetime.datetime.strptime(START_DATE, '%Y-%m-%d')\n",
    "TransactionDT1 = df_train['TransactionDT'].apply(lambda x: (startdate + datetime.timedelta(seconds = x)))\n",
    "dt_m = TransactionDT1.dt.date.astype('str').str[:7]"
   ]
  },
  {
   "cell_type": "code",
   "execution_count": 5,
   "metadata": {},
   "outputs": [
    {
     "data": {
      "text/plain": [
       "['clean_mean0.9459_median0.9498_std0.0121_all.pickle']"
      ]
     },
     "execution_count": 5,
     "metadata": {},
     "output_type": "execute_result"
    }
   ],
   "source": [
    "os.listdir('../input/kirill-best-9459')"
   ]
  },
  {
   "cell_type": "code",
   "execution_count": 6,
   "metadata": {},
   "outputs": [],
   "source": [
    "kirill_preds = read_from_disk('../input/kirill-best-9459', 'clean_mean0.9459_median0.9498_std0.0121_all.pickle')"
   ]
  },
  {
   "cell_type": "code",
   "execution_count": 7,
   "metadata": {},
   "outputs": [
    {
     "data": {
      "text/plain": [
       "{'oof': array([[0.12443554],\n",
       "        [0.01030749],\n",
       "        [0.00466291],\n",
       "        ...,\n",
       "        [0.00153626],\n",
       "        [0.00996601],\n",
       "        [0.00915086]]), 'prediction': array([[0.00060136],\n",
       "        [0.00045988],\n",
       "        [0.00187167],\n",
       "        ...,\n",
       "        [0.00476554],\n",
       "        [0.00534487],\n",
       "        [0.01044222]]), 'prediction_folds': array([[0.00071043, 0.00059837, 0.00055918, 0.00052857, 0.00083778,\n",
       "         0.00037384],\n",
       "        [0.00047077, 0.00057333, 0.00030442, 0.0003718 , 0.00064038,\n",
       "         0.00039858],\n",
       "        [0.00191073, 0.00208861, 0.00192571, 0.00135421, 0.00240772,\n",
       "         0.00154302],\n",
       "        ...,\n",
       "        [0.00567823, 0.00356015, 0.00424526, 0.00423881, 0.005166  ,\n",
       "         0.00570477],\n",
       "        [0.00674979, 0.00440649, 0.00573602, 0.00550563, 0.00556297,\n",
       "         0.00410832],\n",
       "        [0.01168007, 0.00747009, 0.00862406, 0.00955369, 0.01699577,\n",
       "         0.00832966]]), 'scores': [0.9220145653582257,\n",
       "  0.9492834835908349,\n",
       "  0.9503685236944747,\n",
       "  0.9408870069394141,\n",
       "  0.952796485580087,\n",
       "  0.9600005697817343], 'model': LGBMClassifier(bagging_seed=11, boosting_type='gbdt',\n",
       "                categorical_feature=['M1', 'M2', 'M3', 'M4', 'M5', 'M6', 'M7',\n",
       "                                     'M8', 'M9', 'P_emaildomain',\n",
       "                                     'R_emaildomain', 'ProductCD', 'id_12',\n",
       "                                     'id_15', 'id_16', 'id_23', 'id_27', 'id_28',\n",
       "                                     'id_29', 'id_34', 'id_35', 'id_36', 'id_37',\n",
       "                                     'id_38', 'DeviceType', 'card4', 'card6',\n",
       "                                     'DeviceType', 'os_ver', 'siteR', ...],\n",
       "                class_weight=None, colsample_bytree=0.3, importance_type='split',\n",
       "                learning_rate=0.003, max_depth=-1, metric='auc',\n",
       "                min_child_samples=2, min_child_weight=0.001, min_split_gain=0.0,\n",
       "                n_estimators=30000, n_jobs=11, num_leaves=192,\n",
       "                objective='binary', random_state=None, reg_alpha=0.7,\n",
       "                reg_lambda=0.7, silent=True, subsample=0.99,\n",
       "                subsample_for_bin=200000, subsample_freq=3, verbosity=-1), 'feature_importance':       feature   importance  fold\n",
       " 0          C1  2658.500000     1\n",
       " 1         C10   978.500000     1\n",
       " 2         C11  1887.666667     1\n",
       " 3         C12  1025.666667     1\n",
       " 4         C13  3138.333333     1\n",
       " ..        ...          ...   ...\n",
       " 107  domain_1    81.000000     6\n",
       " 108   browser   965.500000     6\n",
       " 109         h  1554.666667     6\n",
       " 110    is_com   666.000000     6\n",
       " 111         w  1445.666667     6\n",
       " \n",
       " [672 rows x 3 columns], 'top_columns': Index(['card1_count_full', 'card1', 'first_trans_amt',\n",
       "        'TransactionDT_amax_amed_uid4', 'TransactionDT_amin_amed_uid4',\n",
       "        'TransactionDT_amax_amin_uid4', 'TransactionDT_amed_diff_uid4',\n",
       "        'TransactionDT_mean_diff_uid4', 'card2', 'TransactionID_count_uid4',\n",
       "        'addr1', 'D15', 'TransactionDT_amax_amed_def',\n",
       "        'TransactionDT_mean_diff_def', 'TransactionDT_amin_amed_def',\n",
       "        'TransactionDT_amed_diff_def', 'TransactionDT_amax_amin_def', 'C13',\n",
       "        'D8', 'D4', 'D10', 'card5', 'D1', 'C1', 'D2', 'C2', 'dist1',\n",
       "        'TransactionID_count_def', 'P_emaildomain', 'TransactionAmt_to_std_def',\n",
       "        'C14', 'C6', 'C11', 'dist2', 'dev_info_1', 'D11', 'site', 'M4', 'D14',\n",
       "        'D3', 'D9', 'C9', 'M5', 'D5', 'C10', 'C8', 'M6', 'C12', 'h', 'C5'],\n",
       "       dtype='object', name='feature')}"
      ]
     },
     "execution_count": 7,
     "metadata": {},
     "output_type": "execute_result"
    }
   ],
   "source": [
    "kirill_preds"
   ]
  },
  {
   "cell_type": "code",
   "execution_count": 8,
   "metadata": {},
   "outputs": [
    {
     "name": "stdout",
     "output_type": "stream",
     "text": [
      "(137321,)\n",
      "(92585,)\n",
      "(86021,)\n",
      "(101632,)\n",
      "(83655,)\n",
      "(89326,)\n"
     ]
    }
   ],
   "source": [
    "for fold_n, month in enumerate(np.unique(dt_m)):\n",
    "    X_val = df_train[dt_m.isin([month])]\n",
    "    y_val = kirill_preds['oof'][:, 0][X_val.index]\n",
    "    print(y_val.shape)\n",
    "    save_to_disk(y_val, 'y_pred_valid_fold{}.pkl'.format(fold_n))"
   ]
  },
  {
   "cell_type": "markdown",
   "metadata": {},
   "source": [
    "Order of months: 12\n",
    "3\n",
    "1\n",
    "5\n",
    "2\n",
    "4"
   ]
  },
  {
   "cell_type": "code",
   "execution_count": 9,
   "metadata": {},
   "outputs": [
    {
     "data": {
      "text/plain": [
       "(506691, 6)"
      ]
     },
     "execution_count": 9,
     "metadata": {},
     "output_type": "execute_result"
    }
   ],
   "source": [
    "kirill_preds['prediction_folds'].shape"
   ]
  },
  {
   "cell_type": "code",
   "execution_count": 10,
   "metadata": {},
   "outputs": [],
   "source": [
    "y_test = kirill_preds['prediction_folds']\n",
    "y_test_array = [y_test[:, 0], y_test[:, 2], y_test[:, 4], y_test[:, 1], y_test[:, 5], y_test[:, 3]]\n",
    "\n",
    "for fold_n in range(6):\n",
    "    save_to_disk(y_test_array[fold_n], 'y_pred_test_fold{}.pkl'.format(fold_n))"
   ]
  }
 ],
 "metadata": {
  "kernelspec": {
   "display_name": "Python 3",
   "language": "python",
   "name": "python3"
  },
  "language_info": {
   "codemirror_mode": {
    "name": "ipython",
    "version": 3
   },
   "file_extension": ".py",
   "mimetype": "text/x-python",
   "name": "python",
   "nbconvert_exporter": "python",
   "pygments_lexer": "ipython3",
   "version": "3.6.6"
  }
 },
 "nbformat": 4,
 "nbformat_minor": 1
}

{
 "cells": [
  {
   "cell_type": "code",
   "execution_count": 1,
   "metadata": {
    "_cell_guid": "b1076dfc-b9ad-4769-8c92-a6c4dae69d19",
    "_kg_hide-input": true,
    "_uuid": "8f2839f25d086af736a60e9eeb907d3b93b6e0e5"
   },
   "outputs": [],
   "source": [
    "# safe downcast\n",
    "def sd(col, max_loss_limit=0.001, avg_loss_limit=0.001, na_loss_limit=0, n_uniq_loss_limit=0, fillna=0):\n",
    "    \"\"\"\n",
    "    max_loss_limit - don't allow any float to lose precision more than this value. Any values are ok for GBT algorithms as long as you don't unique values.\n",
    "                     See https://en.wikipedia.org/wiki/Half-precision_floating-point_format#Precision_limitations_on_decimal_values_in_[0,_1]\n",
    "    avg_loss_limit - same but calculates avg throughout the series.\n",
    "    na_loss_limit - not really useful.\n",
    "    n_uniq_loss_limit - very important parameter. If you have a float field with very high cardinality you can set this value to something like n_records * 0.01 in order to allow some field relaxing.\n",
    "    \"\"\"\n",
    "    is_float = str(col.dtypes)[:5] == 'float'\n",
    "    na_count = col.isna().sum()\n",
    "    n_uniq = col.nunique(dropna=False)\n",
    "    try_types = ['float16', 'float32']\n",
    "\n",
    "    if na_count <= na_loss_limit:\n",
    "        try_types = ['int8', 'int16', 'float16', 'int32', 'float32']\n",
    "\n",
    "    for type in try_types:\n",
    "        col_tmp = col\n",
    "\n",
    "        # float to int conversion => try to round to minimize casting error\n",
    "        if is_float and (str(type)[:3] == 'int'):\n",
    "            col_tmp = col_tmp.copy().fillna(fillna).round()\n",
    "\n",
    "        col_tmp = col_tmp.astype(type)\n",
    "        max_loss = (col_tmp - col).abs().max()\n",
    "        avg_loss = (col_tmp - col).abs().mean()\n",
    "        na_loss = np.abs(na_count - col_tmp.isna().sum())\n",
    "        n_uniq_loss = np.abs(n_uniq - col_tmp.nunique(dropna=False))\n",
    "\n",
    "        if max_loss <= max_loss_limit and avg_loss <= avg_loss_limit and na_loss <= na_loss_limit and n_uniq_loss <= n_uniq_loss_limit:\n",
    "            return col_tmp\n",
    "\n",
    "    # field can't be converted\n",
    "    return col\n",
    "\n",
    "\n",
    "def reduce_mem_usage(df, deep=True, verbose=False, obj_to_cat=False):\n",
    "    numerics = ['int16', 'uint16', 'int32', 'uint32', 'int64', 'uint64', 'float16', 'float32', 'float64']\n",
    "    start_mem = df.memory_usage(deep=deep).sum() / 1024 ** 2\n",
    "    for col in df.columns:\n",
    "        col_type = df[col].dtypes\n",
    "\n",
    "        # collect stats\n",
    "        na_count = df[col].isna().sum()\n",
    "        n_uniq = df[col].nunique(dropna=False)\n",
    "        \n",
    "        # numerics\n",
    "        if col_type in numerics:\n",
    "            df[col] = sd(df[col])\n",
    "\n",
    "        # strings\n",
    "        if (col_type == 'object') and obj_to_cat:\n",
    "            df[col] = df[col].astype('category')\n",
    "        \n",
    "        if verbose:\n",
    "            print(f'Column {col}: {col_type} -> {df[col].dtypes}, na_count={na_count}, n_uniq={n_uniq}')\n",
    "        new_na_count = df[col].isna().sum()\n",
    "        if (na_count != new_na_count):\n",
    "            print(f'Warning: column {col}, {col_type} -> {df[col].dtypes} lost na values. Before: {na_count}, after: {new_na_count}')\n",
    "        new_n_uniq = df[col].nunique(dropna=False)\n",
    "        if (n_uniq != new_n_uniq):\n",
    "            print(f'Warning: column {col}, {col_type} -> {df[col].dtypes} lost unique values. Before: {n_uniq}, after: {new_n_uniq}')\n",
    "\n",
    "    end_mem = df.memory_usage(deep=deep).sum() / 1024 ** 2\n",
    "    percent = 100 * (start_mem - end_mem) / start_mem\n",
    "    if verbose:\n",
    "        print('Mem. usage decreased from {:5.2f} Mb to {:5.2f} Mb ({:.1f}% reduction)'.format(start_mem, end_mem, percent))\n",
    "    return df"
   ]
  },
  {
   "cell_type": "markdown",
   "metadata": {},
   "source": [
    "## <span id=\"1\"></span> ** 1. Importing Libraries and Reading the Dataset **"
   ]
  },
  {
   "cell_type": "code",
   "execution_count": 2,
   "metadata": {
    "_cell_guid": "79c7e3d0-c299-4dcb-8224-4455121ee9b0",
    "_uuid": "d629ff2d2480ee46fbb7e2d37f6b5fab8052498a"
   },
   "outputs": [
    {
     "name": "stdout",
     "output_type": "stream",
     "text": [
      "/kaggle/input/ieee-fraud-detection/test_identity.csv\n",
      "/kaggle/input/ieee-fraud-detection/sample_submission.csv\n",
      "/kaggle/input/ieee-fraud-detection/train_identity.csv\n",
      "/kaggle/input/ieee-fraud-detection/train_transaction.csv\n",
      "/kaggle/input/ieee-fraud-detection/test_transaction.csv\n"
     ]
    }
   ],
   "source": [
    "import os\n",
    "for dirname, _, filenames in os.walk('/kaggle/input'):\n",
    "    for filename in filenames:\n",
    "        print(os.path.join(dirname, filename))"
   ]
  },
  {
   "cell_type": "code",
   "execution_count": 3,
   "metadata": {},
   "outputs": [],
   "source": [
    "import numpy as np\n",
    "import pandas as pd\n",
    "from sklearn import preprocessing\n",
    "import gc, datetime, random\n",
    "import lightgbm as lgb\n",
    "import xgboost as xgb\n",
    "from sklearn.model_selection import KFold\n",
    "from sklearn.preprocessing import LabelEncoder\n",
    "import matplotlib.pyplot as plt\n",
    "import seaborn as sns\n",
    "from sklearn.metrics import roc_auc_score\n",
    "\n",
    "import pickle\n",
    "\n",
    "def save_to_disk(obj, filename):\n",
    "    with open(filename, 'wb') as handle:\n",
    "        pickle.dump(obj, handle, protocol=pickle.HIGHEST_PROTOCOL)\n",
    "\n",
    "pd.options.display.max_rows = 4000\n",
    "\n",
    "def seed_everything(seed=0):\n",
    "    random.seed(seed)\n",
    "    os.environ['PYTHONHASHSEED'] = str(seed)\n",
    "    np.random.seed(seed)\n",
    "\n",
    "SEED = 42\n",
    "seed_everything(SEED)\n",
    "START_DATE = datetime.datetime.strptime('2017-11-30', '%Y-%m-%d')"
   ]
  },
  {
   "cell_type": "code",
   "execution_count": 4,
   "metadata": {},
   "outputs": [
    {
     "name": "stdout",
     "output_type": "stream",
     "text": [
      "Train shape:  (590540, 433)\n",
      "Test shape:  (506691, 432)\n",
      "CPU times: user 56.2 s, sys: 30.1 s, total: 1min 26s\n",
      "Wall time: 1min 18s\n"
     ]
    }
   ],
   "source": [
    "%%time\n",
    "train_transaction = pd.read_csv('/kaggle/input/ieee-fraud-detection/train_transaction.csv', index_col='TransactionID')\n",
    "test_transaction = pd.read_csv('/kaggle/input/ieee-fraud-detection/test_transaction.csv', index_col='TransactionID')\n",
    "\n",
    "train_identity = pd.read_csv('/kaggle/input/ieee-fraud-detection/train_identity.csv', index_col='TransactionID')\n",
    "test_identity = pd.read_csv('/kaggle/input/ieee-fraud-detection/test_identity.csv', index_col='TransactionID')\n",
    "\n",
    "sample_submission = pd.read_csv('/kaggle/input/ieee-fraud-detection/sample_submission.csv', index_col='TransactionID')\n",
    "\n",
    "train = train_transaction.merge(train_identity, how='left', left_index=True, right_index=True)\n",
    "test = test_transaction.merge(test_identity, how='left', left_index=True, right_index=True)\n",
    "\n",
    "print(\"Train shape: \", train.shape)\n",
    "print(\"Test shape: \", test.shape)\n",
    "\n",
    "y = train['isFraud'].copy()\n",
    "del train_transaction, train_identity, test_transaction, test_identity\n",
    "\n",
    "# Drop target, fill in NaNs\n",
    "train = train.drop('isFraud', axis=1)"
   ]
  },
  {
   "cell_type": "code",
   "execution_count": 5,
   "metadata": {},
   "outputs": [],
   "source": [
    "train = reduce_mem_usage(train)\n",
    "test = reduce_mem_usage(test)"
   ]
  },
  {
   "cell_type": "markdown",
   "metadata": {},
   "source": [
    "## <span id=\"2\"></span> ** 2. Feature Engineering **"
   ]
  },
  {
   "cell_type": "markdown",
   "metadata": {},
   "source": [
    "### <span id=\"3\"></span> ** Add New Features **"
   ]
  },
  {
   "cell_type": "code",
   "execution_count": 6,
   "metadata": {},
   "outputs": [],
   "source": [
    "def addNewFeatures(data): \n",
    "    data['uid'] = data['card1'].astype(str)+'_'+data['card2'].astype(str)\n",
    "\n",
    "    data['uid2'] = data['uid'].astype(str)+'_'+data['card3'].astype(str)+'_'+data['card5'].astype(str)\n",
    "\n",
    "    data['uid3'] = data['uid2'].astype(str)+'_'+data['addr1'].astype(str)+'_'+data['addr2'].astype(str)\n",
    "\n",
    "    data['D9'] = np.where(data['D9'].isna(),0,1)\n",
    "    \n",
    "    return data\n",
    "\n",
    "train = addNewFeatures(train)\n",
    "test = addNewFeatures(test)"
   ]
  },
  {
   "cell_type": "code",
   "execution_count": 7,
   "metadata": {},
   "outputs": [],
   "source": [
    "i_cols = ['card1','card2','card3','card5','uid','uid2','uid3']\n",
    "\n",
    "for col in i_cols:\n",
    "    for agg_type in ['mean','std']:\n",
    "        new_col_name = col+'_TransactionAmt_'+agg_type\n",
    "        temp_df = pd.concat([train[[col, 'TransactionAmt']], test[[col,'TransactionAmt']]])\n",
    "        #temp_df['TransactionAmt'] = temp_df['TransactionAmt'].astype(int)\n",
    "        temp_df = temp_df.groupby([col])['TransactionAmt'].agg([agg_type]).reset_index().rename(\n",
    "                                                columns={agg_type: new_col_name})\n",
    "\n",
    "        temp_df.index = list(temp_df[col])\n",
    "        temp_df = temp_df[new_col_name].to_dict()   \n",
    "\n",
    "        train[new_col_name] = train[col].map(temp_df)\n",
    "        test[new_col_name]  = test[col].map(temp_df)\n",
    "\n",
    "train = train.replace(np.inf,999)\n",
    "test = test.replace(np.inf,999)"
   ]
  },
  {
   "cell_type": "code",
   "execution_count": 8,
   "metadata": {},
   "outputs": [],
   "source": [
    "train['TransactionAmt'] = np.log1p(train['TransactionAmt'])\n",
    "test['TransactionAmt'] = np.log1p(test['TransactionAmt'])"
   ]
  },
  {
   "cell_type": "markdown",
   "metadata": {},
   "source": [
    "### <span id=\"4\"></span> ** Handle Email Domains **"
   ]
  },
  {
   "cell_type": "code",
   "execution_count": 9,
   "metadata": {},
   "outputs": [],
   "source": [
    "emails = {'gmail': 'google', 'att.net': 'att', 'twc.com': 'spectrum', 'scranton.edu': 'other', 'optonline.net': 'other',\n",
    "          'hotmail.co.uk': 'microsoft', 'comcast.net': 'other', 'yahoo.com.mx': 'yahoo', 'yahoo.fr': 'yahoo',\n",
    "          'yahoo.es': 'yahoo', 'charter.net': 'spectrum', 'live.com': 'microsoft', 'aim.com': 'aol', 'hotmail.de': 'microsoft',\n",
    "          'centurylink.net': 'centurylink', 'gmail.com': 'google', 'me.com': 'apple', 'earthlink.net': 'other', \n",
    "          'gmx.de': 'other', 'web.de': 'other', 'cfl.rr.com': 'other', 'hotmail.com': 'microsoft', 'protonmail.com': 'other',\n",
    "          'hotmail.fr': 'microsoft', 'windstream.net': 'other', 'outlook.es': 'microsoft', 'yahoo.co.jp': 'yahoo',\n",
    "          'yahoo.de': 'yahoo', 'servicios-ta.com': 'other', 'netzero.net': 'other', 'suddenlink.net': 'other',\n",
    "          'roadrunner.com': 'other', 'sc.rr.com': 'other', 'live.fr': 'microsoft', 'verizon.net': 'yahoo',\n",
    "          'msn.com': 'microsoft', 'q.com': 'centurylink', 'prodigy.net.mx': 'att', 'frontier.com': 'yahoo',\n",
    "          'anonymous.com': 'other', 'rocketmail.com': 'yahoo', 'sbcglobal.net': 'att', 'frontiernet.net': 'yahoo',\n",
    "          'ymail.com': 'yahoo', 'outlook.com': 'microsoft', 'mail.com': 'other', 'bellsouth.net': 'other',\n",
    "          'embarqmail.com': 'centurylink', 'cableone.net': 'other', 'hotmail.es': 'microsoft', 'mac.com': 'apple',\n",
    "          'yahoo.co.uk': 'yahoo', 'netzero.com': 'other', 'yahoo.com': 'yahoo', 'live.com.mx': 'microsoft', 'ptd.net': 'other',\n",
    "          'cox.net': 'other', 'aol.com': 'aol', 'juno.com': 'other', 'icloud.com': 'apple'}\n",
    "us_emails = ['gmail', 'net', 'edu']\n",
    "\n",
    "for c in ['P_emaildomain', 'R_emaildomain']:\n",
    "    train[c + '_bin'] = train[c].map(emails)\n",
    "    test[c + '_bin'] = test[c].map(emails)\n",
    "    \n",
    "    train[c + '_suffix'] = train[c].map(lambda x: str(x).split('.')[-1])\n",
    "    test[c + '_suffix'] = test[c].map(lambda x: str(x).split('.')[-1])\n",
    "    \n",
    "    train[c + '_suffix'] = train[c + '_suffix'].map(lambda x: x if str(x) not in us_emails else 'us')\n",
    "    test[c + '_suffix'] = test[c + '_suffix'].map(lambda x: x if str(x) not in us_emails else 'us')"
   ]
  },
  {
   "cell_type": "markdown",
   "metadata": {},
   "source": [
    "### <span id=\"5\"></span> ** Handle P Email Domain and R Email Domain **"
   ]
  },
  {
   "cell_type": "code",
   "execution_count": 10,
   "metadata": {},
   "outputs": [],
   "source": [
    "p = 'P_emaildomain'\n",
    "r = 'R_emaildomain'\n",
    "uknown = 'email_not_provided'\n",
    "\n",
    "def setDomain(df):\n",
    "    df[p] = df[p].fillna(uknown)\n",
    "    df[r] = df[r].fillna(uknown)\n",
    "    \n",
    "    # Check if P_emaildomain matches R_emaildomain\n",
    "    df['email_check'] = np.where((df[p]==df[r])&(df[p]!=uknown),1,0)\n",
    "\n",
    "    df[p+'_prefix'] = df[p].apply(lambda x: x.split('.')[0])\n",
    "    df[r+'_prefix'] = df[r].apply(lambda x: x.split('.')[0])\n",
    "    \n",
    "    return df\n",
    "    \n",
    "train=setDomain(train)\n",
    "test=setDomain(test)"
   ]
  },
  {
   "cell_type": "markdown",
   "metadata": {},
   "source": [
    "### <span id=\"6\"></span> ** Set Time **"
   ]
  },
  {
   "cell_type": "code",
   "execution_count": 11,
   "metadata": {},
   "outputs": [],
   "source": [
    "def setTime(df):\n",
    "    df['TransactionDT'] = df['TransactionDT'].fillna(df['TransactionDT'].median())\n",
    "    # Temporary\n",
    "    df['DT'] = df['TransactionDT'].apply(lambda x: (START_DATE + datetime.timedelta(seconds = x)))\n",
    "#     df['DT_M'] = (df['DT'].dt.year-2017)*12 + df['DT'].dt.month\n",
    "#     df['DT_W'] = (df['DT'].dt.year-2017)*52 + df['DT'].dt.weekofyear\n",
    "#     df['DT_D'] = (df['DT'].dt.year-2017)*365 + df['DT'].dt.dayofyear\n",
    "    \n",
    "    df['DT_hour'] = df['DT'].dt.hour\n",
    "    df['DT_day_week'] = df['DT'].dt.dayofweek\n",
    "#     df['DT_day'] = df['DT'].dt.day\n",
    "    \n",
    "    return df\n",
    "    \n",
    "train=setTime(train)\n",
    "test=setTime(test)"
   ]
  },
  {
   "cell_type": "markdown",
   "metadata": {},
   "source": [
    "### Normalize D* features by trend"
   ]
  },
  {
   "cell_type": "code",
   "execution_count": 12,
   "metadata": {},
   "outputs": [],
   "source": [
    "trends = {\n",
    "    'D1': [(453.557, 613.017), (335.379, 487.827)],\n",
    "    'D2': [(453.557, 613.017), (335.379, 487.827)],\n",
    "    'D3': [(515.803, 630.), (335.163, 457.923)],\n",
    "    'D4': [(515.298, 689.073), (335.163, 488.54)],\n",
    "    'D5': [(514.,670.), (335.595, 465.903)],\n",
    "    'D6': [(515.514, 602.702), (335.595, 389.906)],\n",
    "    'D7': [(515.947, 559.162), (335.379, 377.205)],\n",
    "    'D8': [(514.865, 1298.05), (335.163, 1113.72)],\n",
    "    'D10': [(515.37, 675.59), (335.451, 492.4)],\n",
    "    'D11': [(515.298, 674.197), (335.379,484.004)],\n",
    "    'D12': [(515.947,651.695), (335.812,470.355)],\n",
    "    'D13': [(499.512,810.655), (337.758,702.105)],\n",
    "    'D14': [(515.298,871.374), (336.028,697.996)],\n",
    "    'D15': [(515.298, 678.383), (335.163, 483.718)]\n",
    "}\n",
    "\n",
    "def normalize_by_trend(df, col, period):\n",
    "    if col in trends:\n",
    "        end_x, end_y = trends[col][0]\n",
    "        start_x, start_y = trends[col][1]\n",
    "        trend = period.apply(lambda x: start_y + (x - start_x)*(end_y-start_y)/(end_x-start_x))\n",
    "        return df[col]/trend\n",
    "    return df[col]\n",
    "\n",
    "for df in [train, test]:\n",
    "    dt = df['TransactionDT'].apply(lambda x: (START_DATE + datetime.timedelta(seconds = x)))\n",
    "    dt_d = ((dt.dt.year-2017)*365 + dt.dt.dayofyear).astype(np.int16)\n",
    "    for col in trends:\n",
    "        df[col] = normalize_by_trend(df, col, dt_d)"
   ]
  },
  {
   "cell_type": "markdown",
   "metadata": {},
   "source": [
    "### <span id=\"7\"></span> ** Handle Browser Version **"
   ]
  },
  {
   "cell_type": "code",
   "execution_count": 13,
   "metadata": {},
   "outputs": [],
   "source": [
    "train[\"lastest_browser\"] = np.zeros(train.shape[0])\n",
    "test[\"lastest_browser\"] = np.zeros(test.shape[0])\n",
    "\n",
    "def setBrowser(df):\n",
    "    df.loc[df[\"id_31\"]==\"samsung browser 7.0\",'lastest_browser']=1\n",
    "    df.loc[df[\"id_31\"]==\"opera 53.0\",'lastest_browser']=1\n",
    "    df.loc[df[\"id_31\"]==\"mobile safari 10.0\",'lastest_browser']=1\n",
    "    df.loc[df[\"id_31\"]==\"google search application 49.0\",'lastest_browser']=1\n",
    "    df.loc[df[\"id_31\"]==\"firefox 60.0\",'lastest_browser']=1\n",
    "    df.loc[df[\"id_31\"]==\"edge 17.0\",'lastest_browser']=1\n",
    "    df.loc[df[\"id_31\"]==\"chrome 69.0\",'lastest_browser']=1\n",
    "    df.loc[df[\"id_31\"]==\"chrome 67.0 for android\",'lastest_browser']=1\n",
    "    df.loc[df[\"id_31\"]==\"chrome 63.0 for android\",'lastest_browser']=1\n",
    "    df.loc[df[\"id_31\"]==\"chrome 63.0 for ios\",'lastest_browser']=1\n",
    "    df.loc[df[\"id_31\"]==\"chrome 64.0\",'lastest_browser']=1\n",
    "    df.loc[df[\"id_31\"]==\"chrome 64.0 for android\",'lastest_browser']=1\n",
    "    df.loc[df[\"id_31\"]==\"chrome 64.0 for ios\",'lastest_browser']=1\n",
    "    df.loc[df[\"id_31\"]==\"chrome 65.0\",'lastest_browser']=1\n",
    "    df.loc[df[\"id_31\"]==\"chrome 65.0 for android\",'lastest_browser']=1\n",
    "    df.loc[df[\"id_31\"]==\"chrome 65.0 for ios\",'lastest_browser']=1\n",
    "    df.loc[df[\"id_31\"]==\"chrome 66.0\",'lastest_browser']=1\n",
    "    df.loc[df[\"id_31\"]==\"chrome 66.0 for android\",'lastest_browser']=1\n",
    "    df.loc[df[\"id_31\"]==\"chrome 66.0 for ios\",'lastest_browser']=1\n",
    "    return df\n",
    "\n",
    "train=setBrowser(train)\n",
    "test=setBrowser(test)"
   ]
  },
  {
   "cell_type": "markdown",
   "metadata": {},
   "source": [
    "### <span id=\"8\"></span> ** Handle Device Type **"
   ]
  },
  {
   "cell_type": "code",
   "execution_count": 14,
   "metadata": {},
   "outputs": [],
   "source": [
    "def setDevice(df):\n",
    "    df['DeviceInfo'] = df['DeviceInfo'].fillna('unknown_device').str.lower()\n",
    "    \n",
    "    df['device_name'] = df['DeviceInfo'].str.split('/', expand=True)[0]\n",
    "\n",
    "    df.loc[df['device_name'].str.contains('SM', na=False), 'device_name'] = 'Samsung'\n",
    "    df.loc[df['device_name'].str.contains('SAMSUNG', na=False), 'device_name'] = 'Samsung'\n",
    "    df.loc[df['device_name'].str.contains('GT-', na=False), 'device_name'] = 'Samsung'\n",
    "    df.loc[df['device_name'].str.contains('Moto G', na=False), 'device_name'] = 'Motorola'\n",
    "    df.loc[df['device_name'].str.contains('Moto', na=False), 'device_name'] = 'Motorola'\n",
    "    df.loc[df['device_name'].str.contains('moto', na=False), 'device_name'] = 'Motorola'\n",
    "    df.loc[df['device_name'].str.contains('LG-', na=False), 'device_name'] = 'LG'\n",
    "    df.loc[df['device_name'].str.contains('rv:', na=False), 'device_name'] = 'RV'\n",
    "    df.loc[df['device_name'].str.contains('HUAWEI', na=False), 'device_name'] = 'Huawei'\n",
    "    df.loc[df['device_name'].str.contains('ALE-', na=False), 'device_name'] = 'Huawei'\n",
    "    df.loc[df['device_name'].str.contains('-L', na=False), 'device_name'] = 'Huawei'\n",
    "    df.loc[df['device_name'].str.contains('Blade', na=False), 'device_name'] = 'ZTE'\n",
    "    df.loc[df['device_name'].str.contains('BLADE', na=False), 'device_name'] = 'ZTE'\n",
    "    df.loc[df['device_name'].str.contains('Linux', na=False), 'device_name'] = 'Linux'\n",
    "    df.loc[df['device_name'].str.contains('XT', na=False), 'device_name'] = 'Sony'\n",
    "    df.loc[df['device_name'].str.contains('HTC', na=False), 'device_name'] = 'HTC'\n",
    "    df.loc[df['device_name'].str.contains('ASUS', na=False), 'device_name'] = 'Asus'\n",
    "\n",
    "    df.loc[df.device_name.isin(df.device_name.value_counts()[df.device_name.value_counts() < 200].index), 'device_name'] = \"Others\"\n",
    "    df['had_id'] = 1\n",
    "    gc.collect()\n",
    "    \n",
    "    return df\n",
    "\n",
    "train=setDevice(train)\n",
    "test=setDevice(test)"
   ]
  },
  {
   "cell_type": "markdown",
   "metadata": {},
   "source": [
    "### <span id=\"9\"></span> ** Set Frequency **"
   ]
  },
  {
   "cell_type": "code",
   "execution_count": 15,
   "metadata": {},
   "outputs": [],
   "source": [
    "i_cols = ['card1','card2','card3','card5',\n",
    "          'C1','C2','C3','C4','C5','C6','C7','C8','C9','C10','C11','C12','C13','C14',\n",
    "#           'D1','D2','D3','D4','D5','D6','D7','D8',\n",
    "          'addr1','addr2',\n",
    "          'dist1','dist2',\n",
    "          'P_emaildomain', 'R_emaildomain',\n",
    "          'DeviceInfo','device_name',\n",
    "          'id_30','id_33',\n",
    "          'uid','uid2','uid3',\n",
    "         ]\n",
    "\n",
    "for col in i_cols:\n",
    "    temp_df = pd.concat([train[[col]], test[[col]]])\n",
    "    fq_encode = temp_df[col].value_counts(dropna=False).to_dict()   \n",
    "    train[col+'_fq_enc'] = train[col].map(fq_encode)\n",
    "    test[col+'_fq_enc']  = test[col].map(fq_encode)\n",
    "\n",
    "\n",
    "# for col in ['DT_M','DT_W','DT_D']:\n",
    "#     temp_df = pd.concat([train[[col]], test[[col]]])\n",
    "#     fq_encode = temp_df[col].value_counts().to_dict()\n",
    "            \n",
    "#     train[col+'_total'] = train[col].map(fq_encode)\n",
    "#     test[col+'_total']  = test[col].map(fq_encode)\n",
    "        \n",
    "\n",
    "# periods = ['DT_M','DT_W','DT_D']\n",
    "# i_cols = ['uid']\n",
    "# for period in periods:\n",
    "#     for col in i_cols:\n",
    "#         new_column = col + '_' + period\n",
    "            \n",
    "#         temp_df = pd.concat([train[[col,period]], test[[col,period]]])\n",
    "#         temp_df[new_column] = temp_df[col].astype(str) + '_' + (temp_df[period]).astype(str)\n",
    "#         fq_encode = temp_df[new_column].value_counts().to_dict()\n",
    "            \n",
    "#         train[new_column] = (train[col].astype(str) + '_' + train[period].astype(str)).map(fq_encode)\n",
    "#         test[new_column]  = (test[col].astype(str) + '_' + test[period].astype(str)).map(fq_encode)\n",
    "        \n",
    "#         train[new_column] /= train[period+'_total']\n",
    "#         test[new_column]  /= test[period+'_total']"
   ]
  },
  {
   "cell_type": "markdown",
   "metadata": {},
   "source": [
    "## <span id=\"10\"></span> ** 3. Data Preprocessing **"
   ]
  },
  {
   "cell_type": "code",
   "execution_count": 16,
   "metadata": {
    "_kg_hide-input": false
   },
   "outputs": [],
   "source": [
    "def get_too_many_null_attr(data):\n",
    "    many_null_cols = [col for col in data.columns if data[col].isnull().sum() / data.shape[0] > 0.9]\n",
    "    return many_null_cols\n",
    "\n",
    "def get_too_many_repeated_val(data):\n",
    "    big_top_value_cols = [col for col in train.columns if train[col].value_counts(dropna=False, normalize=True).values[0] > 0.9]\n",
    "    return big_top_value_cols\n",
    "\n",
    "def get_useless_columns(data):\n",
    "    too_many_null = get_too_many_null_attr(data)\n",
    "    print(\"More than 90% null: \" + str(len(too_many_null)))\n",
    "    too_many_repeated = get_too_many_repeated_val(data)\n",
    "    print(\"More than 90% repeated value: \" + str(len(too_many_repeated)))\n",
    "    cols_to_drop = list(set(too_many_null + too_many_repeated))\n",
    "    #cols_to_drop.remove('isFraud')\n",
    "    return cols_to_drop"
   ]
  },
  {
   "cell_type": "code",
   "execution_count": 17,
   "metadata": {},
   "outputs": [
    {
     "name": "stdout",
     "output_type": "stream",
     "text": [
      "More than 90% null: 12\n",
      "More than 90% repeated value: 70\n"
     ]
    }
   ],
   "source": [
    "cols_to_drop = get_useless_columns(train)"
   ]
  },
  {
   "cell_type": "code",
   "execution_count": 18,
   "metadata": {},
   "outputs": [],
   "source": [
    "train = train.drop(cols_to_drop, axis=1)\n",
    "test = test.drop(cols_to_drop, axis=1)"
   ]
  },
  {
   "cell_type": "code",
   "execution_count": 19,
   "metadata": {},
   "outputs": [
    {
     "name": "stdout",
     "output_type": "stream",
     "text": [
      "(590540, 423)\n",
      "(506691, 423)\n",
      "(590540,)\n"
     ]
    }
   ],
   "source": [
    "print(train.shape)\n",
    "print(test.shape)\n",
    "print(y.shape)"
   ]
  },
  {
   "cell_type": "code",
   "execution_count": 20,
   "metadata": {},
   "outputs": [],
   "source": [
    "numerical_cols = train.select_dtypes(exclude = 'object').columns\n",
    "categorical_cols = train.select_dtypes(include = 'object').columns"
   ]
  },
  {
   "cell_type": "code",
   "execution_count": 21,
   "metadata": {},
   "outputs": [
    {
     "data": {
      "text/plain": [
       "Index(['ProductCD', 'card4', 'card6', 'P_emaildomain', 'R_emaildomain'], dtype='object')"
      ]
     },
     "execution_count": 21,
     "metadata": {},
     "output_type": "execute_result"
    }
   ],
   "source": [
    "categorical_cols[:5]"
   ]
  },
  {
   "cell_type": "code",
   "execution_count": 22,
   "metadata": {},
   "outputs": [],
   "source": [
    "# Label Encoding\n",
    "for f in train.columns:\n",
    "    if train[f].dtype.name =='object' or test[f].dtype.name =='object': \n",
    "        lbl = preprocessing.LabelEncoder()\n",
    "        lbl.fit(list(train[f].values) + list(test[f].values))\n",
    "        train[f] = lbl.transform(list(train[f].values))\n",
    "        test[f] = lbl.transform(list(test[f].values))"
   ]
  },
  {
   "cell_type": "code",
   "execution_count": 23,
   "metadata": {},
   "outputs": [],
   "source": [
    "train = train.fillna(-999)\n",
    "test = test.fillna(-999)"
   ]
  },
  {
   "cell_type": "code",
   "execution_count": 24,
   "metadata": {},
   "outputs": [
    {
     "name": "stdout",
     "output_type": "stream",
     "text": [
      "0\n",
      "0\n"
     ]
    }
   ],
   "source": [
    "print(train.isnull().sum().max())\n",
    "print(test.isnull().sum().max())"
   ]
  },
  {
   "cell_type": "code",
   "execution_count": 25,
   "metadata": {},
   "outputs": [
    {
     "data": {
      "text/html": [
       "<div>\n",
       "<style scoped>\n",
       "    .dataframe tbody tr th:only-of-type {\n",
       "        vertical-align: middle;\n",
       "    }\n",
       "\n",
       "    .dataframe tbody tr th {\n",
       "        vertical-align: top;\n",
       "    }\n",
       "\n",
       "    .dataframe thead th {\n",
       "        text-align: right;\n",
       "    }\n",
       "</style>\n",
       "<table border=\"1\" class=\"dataframe\">\n",
       "  <thead>\n",
       "    <tr style=\"text-align: right;\">\n",
       "      <th></th>\n",
       "      <th>TransactionDT</th>\n",
       "      <th>TransactionAmt</th>\n",
       "      <th>ProductCD</th>\n",
       "      <th>card1</th>\n",
       "      <th>card2</th>\n",
       "      <th>card3</th>\n",
       "      <th>card4</th>\n",
       "      <th>card5</th>\n",
       "      <th>card6</th>\n",
       "      <th>addr1</th>\n",
       "      <th>...</th>\n",
       "      <th>dist1_fq_enc</th>\n",
       "      <th>P_emaildomain_fq_enc</th>\n",
       "      <th>R_emaildomain_fq_enc</th>\n",
       "      <th>DeviceInfo_fq_enc</th>\n",
       "      <th>device_name_fq_enc</th>\n",
       "      <th>id_30_fq_enc</th>\n",
       "      <th>id_33_fq_enc</th>\n",
       "      <th>uid_fq_enc</th>\n",
       "      <th>uid2_fq_enc</th>\n",
       "      <th>uid3_fq_enc</th>\n",
       "    </tr>\n",
       "    <tr>\n",
       "      <th>TransactionID</th>\n",
       "      <th></th>\n",
       "      <th></th>\n",
       "      <th></th>\n",
       "      <th></th>\n",
       "      <th></th>\n",
       "      <th></th>\n",
       "      <th></th>\n",
       "      <th></th>\n",
       "      <th></th>\n",
       "      <th></th>\n",
       "      <th></th>\n",
       "      <th></th>\n",
       "      <th></th>\n",
       "      <th></th>\n",
       "      <th></th>\n",
       "      <th></th>\n",
       "      <th></th>\n",
       "      <th></th>\n",
       "      <th></th>\n",
       "      <th></th>\n",
       "      <th></th>\n",
       "    </tr>\n",
       "  </thead>\n",
       "  <tbody>\n",
       "    <tr>\n",
       "      <td>2987000</td>\n",
       "      <td>86400</td>\n",
       "      <td>4.241327</td>\n",
       "      <td>4</td>\n",
       "      <td>13926</td>\n",
       "      <td>-999.0</td>\n",
       "      <td>150.0</td>\n",
       "      <td>1</td>\n",
       "      <td>142.0</td>\n",
       "      <td>1</td>\n",
       "      <td>315.0</td>\n",
       "      <td>...</td>\n",
       "      <td>4707</td>\n",
       "      <td>163648</td>\n",
       "      <td>824070</td>\n",
       "      <td>863508</td>\n",
       "      <td>863508</td>\n",
       "      <td>949007</td>\n",
       "      <td>953271</td>\n",
       "      <td>6</td>\n",
       "      <td>6</td>\n",
       "      <td>2</td>\n",
       "    </tr>\n",
       "    <tr>\n",
       "      <td>2987001</td>\n",
       "      <td>86401</td>\n",
       "      <td>3.401197</td>\n",
       "      <td>4</td>\n",
       "      <td>2755</td>\n",
       "      <td>404.0</td>\n",
       "      <td>150.0</td>\n",
       "      <td>2</td>\n",
       "      <td>102.0</td>\n",
       "      <td>1</td>\n",
       "      <td>325.0</td>\n",
       "      <td>...</td>\n",
       "      <td>643488</td>\n",
       "      <td>435803</td>\n",
       "      <td>824070</td>\n",
       "      <td>863508</td>\n",
       "      <td>863508</td>\n",
       "      <td>949007</td>\n",
       "      <td>953271</td>\n",
       "      <td>1328</td>\n",
       "      <td>1328</td>\n",
       "      <td>105</td>\n",
       "    </tr>\n",
       "    <tr>\n",
       "      <td>2987002</td>\n",
       "      <td>86469</td>\n",
       "      <td>4.094345</td>\n",
       "      <td>4</td>\n",
       "      <td>4663</td>\n",
       "      <td>490.0</td>\n",
       "      <td>150.0</td>\n",
       "      <td>4</td>\n",
       "      <td>166.0</td>\n",
       "      <td>2</td>\n",
       "      <td>330.0</td>\n",
       "      <td>...</td>\n",
       "      <td>38</td>\n",
       "      <td>9934</td>\n",
       "      <td>824070</td>\n",
       "      <td>863508</td>\n",
       "      <td>863508</td>\n",
       "      <td>949007</td>\n",
       "      <td>953271</td>\n",
       "      <td>1787</td>\n",
       "      <td>1787</td>\n",
       "      <td>46</td>\n",
       "    </tr>\n",
       "    <tr>\n",
       "      <td>2987003</td>\n",
       "      <td>86499</td>\n",
       "      <td>3.931826</td>\n",
       "      <td>4</td>\n",
       "      <td>18132</td>\n",
       "      <td>567.0</td>\n",
       "      <td>150.0</td>\n",
       "      <td>2</td>\n",
       "      <td>117.0</td>\n",
       "      <td>2</td>\n",
       "      <td>476.0</td>\n",
       "      <td>...</td>\n",
       "      <td>643488</td>\n",
       "      <td>182784</td>\n",
       "      <td>824070</td>\n",
       "      <td>863508</td>\n",
       "      <td>863508</td>\n",
       "      <td>949007</td>\n",
       "      <td>953271</td>\n",
       "      <td>7602</td>\n",
       "      <td>7602</td>\n",
       "      <td>362</td>\n",
       "    </tr>\n",
       "    <tr>\n",
       "      <td>2987004</td>\n",
       "      <td>86506</td>\n",
       "      <td>3.931826</td>\n",
       "      <td>1</td>\n",
       "      <td>4497</td>\n",
       "      <td>514.0</td>\n",
       "      <td>150.0</td>\n",
       "      <td>2</td>\n",
       "      <td>102.0</td>\n",
       "      <td>1</td>\n",
       "      <td>420.0</td>\n",
       "      <td>...</td>\n",
       "      <td>643488</td>\n",
       "      <td>435803</td>\n",
       "      <td>824070</td>\n",
       "      <td>9</td>\n",
       "      <td>42979</td>\n",
       "      <td>3573</td>\n",
       "      <td>1430</td>\n",
       "      <td>30</td>\n",
       "      <td>30</td>\n",
       "      <td>1</td>\n",
       "    </tr>\n",
       "  </tbody>\n",
       "</table>\n",
       "<p>5 rows × 423 columns</p>\n",
       "</div>"
      ],
      "text/plain": [
       "               TransactionDT  TransactionAmt  ProductCD  card1  card2  card3  \\\n",
       "TransactionID                                                                  \n",
       "2987000                86400        4.241327          4  13926 -999.0  150.0   \n",
       "2987001                86401        3.401197          4   2755  404.0  150.0   \n",
       "2987002                86469        4.094345          4   4663  490.0  150.0   \n",
       "2987003                86499        3.931826          4  18132  567.0  150.0   \n",
       "2987004                86506        3.931826          1   4497  514.0  150.0   \n",
       "\n",
       "               card4  card5  card6  addr1  ...  dist1_fq_enc  \\\n",
       "TransactionID                              ...                 \n",
       "2987000            1  142.0      1  315.0  ...          4707   \n",
       "2987001            2  102.0      1  325.0  ...        643488   \n",
       "2987002            4  166.0      2  330.0  ...            38   \n",
       "2987003            2  117.0      2  476.0  ...        643488   \n",
       "2987004            2  102.0      1  420.0  ...        643488   \n",
       "\n",
       "               P_emaildomain_fq_enc  R_emaildomain_fq_enc  DeviceInfo_fq_enc  \\\n",
       "TransactionID                                                                  \n",
       "2987000                      163648                824070             863508   \n",
       "2987001                      435803                824070             863508   \n",
       "2987002                        9934                824070             863508   \n",
       "2987003                      182784                824070             863508   \n",
       "2987004                      435803                824070                  9   \n",
       "\n",
       "               device_name_fq_enc  id_30_fq_enc  id_33_fq_enc  uid_fq_enc  \\\n",
       "TransactionID                                                               \n",
       "2987000                    863508        949007        953271           6   \n",
       "2987001                    863508        949007        953271        1328   \n",
       "2987002                    863508        949007        953271        1787   \n",
       "2987003                    863508        949007        953271        7602   \n",
       "2987004                     42979          3573          1430          30   \n",
       "\n",
       "               uid2_fq_enc  uid3_fq_enc  \n",
       "TransactionID                            \n",
       "2987000                  6            2  \n",
       "2987001               1328          105  \n",
       "2987002               1787           46  \n",
       "2987003               7602          362  \n",
       "2987004                 30            1  \n",
       "\n",
       "[5 rows x 423 columns]"
      ]
     },
     "execution_count": 25,
     "metadata": {},
     "output_type": "execute_result"
    }
   ],
   "source": [
    "train.head()"
   ]
  },
  {
   "cell_type": "code",
   "execution_count": 26,
   "metadata": {},
   "outputs": [],
   "source": [
    "TransactionDT1 = train['TransactionDT'].apply(lambda x: (START_DATE + datetime.timedelta(seconds = x)))\n",
    "dt_m = TransactionDT1.dt.date.astype('str').str[:7]"
   ]
  },
  {
   "cell_type": "code",
   "execution_count": 27,
   "metadata": {},
   "outputs": [],
   "source": [
    "X = train.drop(['TransactionDT', 'DT'], axis=1)\n",
    "X_test = test.drop(['TransactionDT', 'DT'], axis=1)"
   ]
  },
  {
   "cell_type": "code",
   "execution_count": 28,
   "metadata": {},
   "outputs": [
    {
     "name": "stdout",
     "output_type": "stream",
     "text": [
      "X: (590540, 421)\n",
      "y_train: (590540,)\n",
      "X_test: (506691, 421)\n"
     ]
    }
   ],
   "source": [
    "print(\"X:\", X.shape)\n",
    "print(\"y_train:\", y.shape)\n",
    "print(\"X_test:\", X_test.shape)"
   ]
  },
  {
   "cell_type": "markdown",
   "metadata": {},
   "source": [
    "## <span id=\"11\"></span> ** 4. Model **"
   ]
  },
  {
   "cell_type": "markdown",
   "metadata": {},
   "source": [
    "### <span id=\"12\"></span> ** LightGBM **"
   ]
  },
  {
   "cell_type": "code",
   "execution_count": 29,
   "metadata": {},
   "outputs": [],
   "source": [
    "params = {'num_leaves': 546,\n",
    "          'min_child_weight': 0.03454472573214212,\n",
    "          'feature_fraction': 0.1797454081646243,\n",
    "          'bagging_fraction': 0.2181193142567742,\n",
    "          'min_data_in_leaf': 106,\n",
    "          'objective': 'binary',\n",
    "          'max_depth': -1,\n",
    "          'learning_rate': 0.005883242363721497,\n",
    "          \"boosting_type\": \"gbdt\",\n",
    "          \"bagging_seed\": 11,\n",
    "          \"metric\": 'auc',\n",
    "          \"verbosity\": -1,\n",
    "          'reg_alpha': 0.3299927210061127,\n",
    "          'reg_lambda': 0.3885237330340494,\n",
    "          'random_state': 99,\n",
    "}"
   ]
  },
  {
   "cell_type": "markdown",
   "metadata": {},
   "source": [
    "### Fit predict"
   ]
  },
  {
   "cell_type": "code",
   "execution_count": 30,
   "metadata": {},
   "outputs": [
    {
     "name": "stdout",
     "output_type": "stream",
     "text": [
      "(453219, 421) (453219,) (137321, 421) (137321,)\n",
      "Training until validation scores don't improve for 500 rounds.\n",
      "[200]\ttraining's auc: 0.956875\tvalid_1's auc: 0.888098\n",
      "[400]\ttraining's auc: 0.974569\tvalid_1's auc: 0.899611\n",
      "[600]\ttraining's auc: 0.98564\tvalid_1's auc: 0.906925\n",
      "[800]\ttraining's auc: 0.991892\tvalid_1's auc: 0.911329\n",
      "[1000]\ttraining's auc: 0.995351\tvalid_1's auc: 0.913601\n",
      "[1200]\ttraining's auc: 0.997332\tvalid_1's auc: 0.915279\n",
      "[1400]\ttraining's auc: 0.998428\tvalid_1's auc: 0.916268\n",
      "[1600]\ttraining's auc: 0.999073\tvalid_1's auc: 0.916615\n",
      "[1800]\ttraining's auc: 0.99946\tvalid_1's auc: 0.917028\n",
      "[2000]\ttraining's auc: 0.999683\tvalid_1's auc: 0.91691\n",
      "[2200]\ttraining's auc: 0.999814\tvalid_1's auc: 0.917048\n",
      "[2400]\ttraining's auc: 0.999893\tvalid_1's auc: 0.917138\n",
      "[2600]\ttraining's auc: 0.999939\tvalid_1's auc: 0.917271\n",
      "[2800]\ttraining's auc: 0.999966\tvalid_1's auc: 0.917391\n",
      "[3000]\ttraining's auc: 0.999981\tvalid_1's auc: 0.917581\n",
      "[3200]\ttraining's auc: 0.99999\tvalid_1's auc: 0.917795\n",
      "[3400]\ttraining's auc: 0.999995\tvalid_1's auc: 0.91788\n",
      "[3600]\ttraining's auc: 0.999997\tvalid_1's auc: 0.918056\n",
      "[3800]\ttraining's auc: 0.999998\tvalid_1's auc: 0.91818\n",
      "[4000]\ttraining's auc: 0.999999\tvalid_1's auc: 0.918269\n",
      "[4200]\ttraining's auc: 1\tvalid_1's auc: 0.918311\n",
      "[4400]\ttraining's auc: 1\tvalid_1's auc: 0.918378\n",
      "[4600]\ttraining's auc: 1\tvalid_1's auc: 0.918419\n",
      "[4800]\ttraining's auc: 1\tvalid_1's auc: 0.91836\n",
      "[5000]\ttraining's auc: 1\tvalid_1's auc: 0.918379\n",
      "Early stopping, best iteration is:\n",
      "[4585]\ttraining's auc: 1\tvalid_1's auc: 0.91842\n",
      "Fold 1 | AUC: 0.9184197947701459\n",
      "(497955, 421) (497955,) (92585, 421) (92585,)\n",
      "Training until validation scores don't improve for 500 rounds.\n",
      "[200]\ttraining's auc: 0.953628\tvalid_1's auc: 0.913868\n",
      "[400]\ttraining's auc: 0.971539\tvalid_1's auc: 0.925709\n",
      "[600]\ttraining's auc: 0.983775\tvalid_1's auc: 0.933642\n",
      "[800]\ttraining's auc: 0.990921\tvalid_1's auc: 0.939043\n",
      "[1000]\ttraining's auc: 0.994948\tvalid_1's auc: 0.942122\n",
      "[1200]\ttraining's auc: 0.997188\tvalid_1's auc: 0.943945\n",
      "[1400]\ttraining's auc: 0.998363\tvalid_1's auc: 0.945429\n",
      "[1600]\ttraining's auc: 0.999034\tvalid_1's auc: 0.946038\n",
      "[1800]\ttraining's auc: 0.999431\tvalid_1's auc: 0.94635\n",
      "[2000]\ttraining's auc: 0.999661\tvalid_1's auc: 0.946521\n",
      "[2200]\ttraining's auc: 0.999797\tvalid_1's auc: 0.946503\n",
      "[2400]\ttraining's auc: 0.99988\tvalid_1's auc: 0.946568\n",
      "[2600]\ttraining's auc: 0.999929\tvalid_1's auc: 0.946431\n",
      "[2800]\ttraining's auc: 0.999959\tvalid_1's auc: 0.946346\n",
      "Early stopping, best iteration is:\n",
      "[2396]\ttraining's auc: 0.999878\tvalid_1's auc: 0.946585\n",
      "Fold 2 | AUC: 0.9465845197880113\n",
      "(504519, 421) (504519,) (86021, 421) (86021,)\n",
      "Training until validation scores don't improve for 500 rounds.\n",
      "[200]\ttraining's auc: 0.953588\tvalid_1's auc: 0.927788\n",
      "[400]\ttraining's auc: 0.972089\tvalid_1's auc: 0.938137\n",
      "[600]\ttraining's auc: 0.983932\tvalid_1's auc: 0.94466\n",
      "[800]\ttraining's auc: 0.990757\tvalid_1's auc: 0.948447\n",
      "[1000]\ttraining's auc: 0.994689\tvalid_1's auc: 0.950102\n",
      "[1200]\ttraining's auc: 0.99696\tvalid_1's auc: 0.950934\n",
      "[1400]\ttraining's auc: 0.998211\tvalid_1's auc: 0.95127\n",
      "[1600]\ttraining's auc: 0.998938\tvalid_1's auc: 0.951472\n",
      "[1800]\ttraining's auc: 0.999372\tvalid_1's auc: 0.951429\n",
      "[2000]\ttraining's auc: 0.999625\tvalid_1's auc: 0.951114\n",
      "Early stopping, best iteration is:\n",
      "[1681]\ttraining's auc: 0.999138\tvalid_1's auc: 0.95151\n",
      "Fold 3 | AUC: 0.9515102870620804\n",
      "(488908, 421) (488908,) (101632, 421) (101632,)\n",
      "Training until validation scores don't improve for 500 rounds.\n",
      "[200]\ttraining's auc: 0.955548\tvalid_1's auc: 0.915433\n",
      "[400]\ttraining's auc: 0.973309\tvalid_1's auc: 0.927633\n",
      "[600]\ttraining's auc: 0.985111\tvalid_1's auc: 0.935819\n",
      "[800]\ttraining's auc: 0.991873\tvalid_1's auc: 0.940387\n",
      "[1000]\ttraining's auc: 0.995593\tvalid_1's auc: 0.942777\n",
      "[1200]\ttraining's auc: 0.997556\tvalid_1's auc: 0.943922\n",
      "[1400]\ttraining's auc: 0.998618\tvalid_1's auc: 0.944582\n",
      "[1600]\ttraining's auc: 0.999205\tvalid_1's auc: 0.944739\n",
      "[1800]\ttraining's auc: 0.999547\tvalid_1's auc: 0.944892\n",
      "[2000]\ttraining's auc: 0.999741\tvalid_1's auc: 0.944792\n",
      "[2200]\ttraining's auc: 0.999849\tvalid_1's auc: 0.944562\n",
      "Early stopping, best iteration is:\n",
      "[1804]\ttraining's auc: 0.999553\tvalid_1's auc: 0.944909\n",
      "Fold 4 | AUC: 0.9449089630133135\n",
      "(506885, 421) (506885,) (83655, 421) (83655,)\n",
      "Training until validation scores don't improve for 500 rounds.\n",
      "[200]\ttraining's auc: 0.953055\tvalid_1's auc: 0.921484\n",
      "[400]\ttraining's auc: 0.970958\tvalid_1's auc: 0.935975\n",
      "[600]\ttraining's auc: 0.983225\tvalid_1's auc: 0.945988\n",
      "[800]\ttraining's auc: 0.990348\tvalid_1's auc: 0.951548\n",
      "[1000]\ttraining's auc: 0.994421\tvalid_1's auc: 0.954624\n",
      "[1200]\ttraining's auc: 0.996772\tvalid_1's auc: 0.95643\n",
      "[1400]\ttraining's auc: 0.998088\tvalid_1's auc: 0.957542\n",
      "[1600]\ttraining's auc: 0.998844\tvalid_1's auc: 0.958147\n",
      "[1800]\ttraining's auc: 0.999306\tvalid_1's auc: 0.958558\n",
      "[2000]\ttraining's auc: 0.999579\tvalid_1's auc: 0.958803\n",
      "[2200]\ttraining's auc: 0.999743\tvalid_1's auc: 0.958961\n",
      "[2400]\ttraining's auc: 0.999841\tvalid_1's auc: 0.958996\n",
      "[2600]\ttraining's auc: 0.999901\tvalid_1's auc: 0.95892\n",
      "[2800]\ttraining's auc: 0.99994\tvalid_1's auc: 0.958837\n",
      "Early stopping, best iteration is:\n",
      "[2361]\ttraining's auc: 0.999825\tvalid_1's auc: 0.959036\n",
      "Fold 5 | AUC: 0.9590361494486389\n",
      "(501214, 421) (501214,) (89326, 421) (89326,)\n",
      "Training until validation scores don't improve for 500 rounds.\n",
      "[200]\ttraining's auc: 0.954271\tvalid_1's auc: 0.909848\n",
      "[400]\ttraining's auc: 0.971884\tvalid_1's auc: 0.921941\n",
      "[600]\ttraining's auc: 0.983783\tvalid_1's auc: 0.929926\n",
      "[800]\ttraining's auc: 0.990772\tvalid_1's auc: 0.934356\n",
      "[1000]\ttraining's auc: 0.994724\tvalid_1's auc: 0.93694\n",
      "[1200]\ttraining's auc: 0.996987\tvalid_1's auc: 0.937789\n",
      "[1400]\ttraining's auc: 0.998236\tvalid_1's auc: 0.938196\n",
      "[1600]\ttraining's auc: 0.998952\tvalid_1's auc: 0.938426\n",
      "[1800]\ttraining's auc: 0.999373\tvalid_1's auc: 0.938504\n",
      "[2000]\ttraining's auc: 0.999631\tvalid_1's auc: 0.9385\n",
      "Early stopping, best iteration is:\n",
      "[1639]\ttraining's auc: 0.999053\tvalid_1's auc: 0.938583\n",
      "Fold 6 | AUC: 0.9385825336660942\n",
      "\n",
      "Mean AUC = 0.9431737079580473\n",
      "CPU times: user 9h 47min 15s, sys: 10min 19s, total: 9h 57min 34s\n",
      "Wall time: 2h 37min 32s\n"
     ]
    }
   ],
   "source": [
    "%%time\n",
    "\n",
    "columns = X.columns\n",
    "y_preds = np.zeros(X_test.shape[0])\n",
    "score = 0\n",
    "\n",
    "feature_importances = pd.DataFrame()\n",
    "feature_importances['feature'] = columns\n",
    "\n",
    "NFOLDS = len(np.unique(dt_m)) # 6\n",
    "\n",
    "for fold_n, month in enumerate(np.unique(dt_m)):\n",
    "    X_train, y_train = X[~dt_m.isin([month])][columns], y[~dt_m.isin([month])]\n",
    "    X_valid, y_valid = X[dt_m.isin([month])][columns], y[dt_m.isin([month])]\n",
    "    print(X_train.shape, y_train.shape, X_valid.shape, y_valid.shape)\n",
    "    \n",
    "    dtrain = lgb.Dataset(X_train, label=y_train)\n",
    "    dvalid = lgb.Dataset(X_valid, label=y_valid)\n",
    "\n",
    "    clf = lgb.train(params, dtrain, 10000, valid_sets = [dtrain, dvalid], verbose_eval=200, early_stopping_rounds=500)\n",
    "    \n",
    "    feature_importances[f'fold_{fold_n + 1}'] = clf.feature_importance()\n",
    "    \n",
    "    y_pred_valid = clf.predict(X_valid)\n",
    "    save_to_disk(y_pred_valid, 'y_pred_valid_fold{}.pkl'.format(fold_n))\n",
    "    print(f\"Fold {fold_n + 1} | AUC: {roc_auc_score(y_valid, y_pred_valid)}\")\n",
    "    \n",
    "    score += roc_auc_score(y_valid, y_pred_valid) / NFOLDS\n",
    "    \n",
    "    y_pred_test = clf.predict(X_test)\n",
    "    save_to_disk(y_pred_test, 'y_pred_test_fold{}.pkl'.format(fold_n))\n",
    "    y_preds += y_pred_test / NFOLDS\n",
    "    \n",
    "    del X_train, X_valid, y_train, y_valid\n",
    "    gc.collect()\n",
    "    \n",
    "print(f\"\\nMean AUC = {score}\")"
   ]
  },
  {
   "cell_type": "markdown",
   "metadata": {},
   "source": [
    "## <span id=\"13\"></span> ** 5. Submission **"
   ]
  },
  {
   "cell_type": "code",
   "execution_count": 31,
   "metadata": {},
   "outputs": [],
   "source": [
    "submission = pd.read_csv('/kaggle/input/ieee-fraud-detection/sample_submission.csv')"
   ]
  },
  {
   "cell_type": "code",
   "execution_count": 32,
   "metadata": {},
   "outputs": [],
   "source": [
    "submission['isFraud'] = y_preds"
   ]
  },
  {
   "cell_type": "code",
   "execution_count": 33,
   "metadata": {},
   "outputs": [
    {
     "data": {
      "text/html": [
       "<div>\n",
       "<style scoped>\n",
       "    .dataframe tbody tr th:only-of-type {\n",
       "        vertical-align: middle;\n",
       "    }\n",
       "\n",
       "    .dataframe tbody tr th {\n",
       "        vertical-align: top;\n",
       "    }\n",
       "\n",
       "    .dataframe thead th {\n",
       "        text-align: right;\n",
       "    }\n",
       "</style>\n",
       "<table border=\"1\" class=\"dataframe\">\n",
       "  <thead>\n",
       "    <tr style=\"text-align: right;\">\n",
       "      <th></th>\n",
       "      <th>TransactionID</th>\n",
       "      <th>isFraud</th>\n",
       "    </tr>\n",
       "  </thead>\n",
       "  <tbody>\n",
       "    <tr>\n",
       "      <td>0</td>\n",
       "      <td>3663549</td>\n",
       "      <td>0.000418</td>\n",
       "    </tr>\n",
       "    <tr>\n",
       "      <td>1</td>\n",
       "      <td>3663550</td>\n",
       "      <td>0.001313</td>\n",
       "    </tr>\n",
       "    <tr>\n",
       "      <td>2</td>\n",
       "      <td>3663551</td>\n",
       "      <td>0.001088</td>\n",
       "    </tr>\n",
       "    <tr>\n",
       "      <td>3</td>\n",
       "      <td>3663552</td>\n",
       "      <td>0.000953</td>\n",
       "    </tr>\n",
       "    <tr>\n",
       "      <td>4</td>\n",
       "      <td>3663553</td>\n",
       "      <td>0.000804</td>\n",
       "    </tr>\n",
       "  </tbody>\n",
       "</table>\n",
       "</div>"
      ],
      "text/plain": [
       "   TransactionID   isFraud\n",
       "0        3663549  0.000418\n",
       "1        3663550  0.001313\n",
       "2        3663551  0.001088\n",
       "3        3663552  0.000953\n",
       "4        3663553  0.000804"
      ]
     },
     "execution_count": 33,
     "metadata": {},
     "output_type": "execute_result"
    }
   ],
   "source": [
    "submission.head()"
   ]
  },
  {
   "cell_type": "code",
   "execution_count": 34,
   "metadata": {},
   "outputs": [],
   "source": [
    "submission.to_csv('submission.csv', index=False)"
   ]
  },
  {
   "cell_type": "code",
   "execution_count": 35,
   "metadata": {},
   "outputs": [
    {
     "data": {
      "image/png": "[encoded data removed]",
      "text/plain": [
       "<Figure size 1152x1152 with 1 Axes>"
      ]
     },
     "metadata": {
      "needs_background": "light"
     },
     "output_type": "display_data"
    }
   ],
   "source": [
    "feature_importances['average'] = feature_importances[[f'fold_{fold_n + 1}' for fold_n in range(NFOLDS)]].mean(axis=1)\n",
    "feature_importances.to_csv('feature_importances.csv')\n",
    "\n",
    "plt.figure(figsize=(16, 16))\n",
    "sns.barplot(data=feature_importances.sort_values(by='average', ascending=False).head(50), x='average', y='feature');\n",
    "plt.title('50 TOP feature importance over {} folds average'.format(NFOLDS));"
   ]
  }
 ],
 "metadata": {
  "kernelspec": {
   "display_name": "Python 3",
   "language": "python",
   "name": "python3"
  },
  "language_info": {
   "codemirror_mode": {
    "name": "ipython",
    "version": 3
   },
   "file_extension": ".py",
   "mimetype": "text/x-python",
   "name": "python",
   "nbconvert_exporter": "python",
   "pygments_lexer": "ipython3",
   "version": "3.6.6"
  }
 },
 "nbformat": 4,
 "nbformat_minor": 1
}

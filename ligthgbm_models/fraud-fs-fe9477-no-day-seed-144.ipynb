{
 "cells": [
  {
   "cell_type": "code",
   "execution_count": 1,
   "metadata": {
    "_cell_guid": "b1076dfc-b9ad-4769-8c92-a6c4dae69d19",
    "_uuid": "8f2839f25d086af736a60e9eeb907d3b93b6e0e5"
   },
   "outputs": [],
   "source": [
    "from functools import partial\n",
    "\n",
    "import datetime\n",
    "import gc\n",
    "import lightgbm as lgb\n",
    "import numpy as np\n",
    "import os\n",
    "import pandas as pd\n",
    "import matplotlib.pyplot as plt\n",
    "import pickle\n",
    "import random\n",
    "import seaborn as sns\n",
    "\n",
    "from sklearn.metrics import roc_auc_score\n",
    "from sklearn.preprocessing import LabelEncoder\n",
    "from sklearn.model_selection import train_test_split\n",
    "from sklearn.utils import shuffle\n",
    "\n",
    "sns.set()\n",
    "\n",
    "%matplotlib inline"
   ]
  },
  {
   "cell_type": "code",
   "execution_count": 2,
   "metadata": {},
   "outputs": [],
   "source": [
    "def seed_everything(seed=13):\n",
    "    random.seed(seed)\n",
    "    os.environ['PYTHONHASHSEED'] = str(seed)\n",
    "    np.random.seed(seed)\n",
    "    \n",
    "    \n",
    "def read_from_disk(path, filename):\n",
    "    with open(os.path.join(path, filename), 'rb') as handle:\n",
    "        return pickle.load(handle)\n",
    "    \n",
    "    \n",
    "def save_to_disk(obj, filename):\n",
    "    with open(filename, 'wb') as handle:\n",
    "        pickle.dump(obj, handle, protocol=pickle.HIGHEST_PROTOCOL)"
   ]
  },
  {
   "cell_type": "code",
   "execution_count": 3,
   "metadata": {},
   "outputs": [],
   "source": [
    "def split_features_by_importance(x_train, x_val, y_val, model, importance_tresh=0.1, permut_tresh=1e-4):\n",
    "    all_features = x_train.columns\n",
    "    feature_importance = calc_feature_importance(all_features, model)\n",
    "    garbage_features = find_garbage_features(feature_importance, importance_tresh)\n",
    "    retain_features = find_features_to_retain(garbage_features, x_val, y_val, model, threshold=permut_tresh)\n",
    "    remove_features = set(garbage_features) - set(retain_features)\n",
    "    return list(set(all_features) - remove_features), list(remove_features), feature_importance\n",
    "\n",
    "\n",
    "def calc_feature_importance(features, model):\n",
    "    importance = pd.DataFrame([\n",
    "        list(features),\n",
    "        model.feature_importance(importance_type='split').tolist(),\n",
    "        model.feature_importance(importance_type='gain').tolist()\n",
    "    ]).T\n",
    "    importance.columns = ['feature', 'split', 'gain']\n",
    "    return importance\n",
    "\n",
    "\n",
    "def find_garbage_features(importance, treshold):\n",
    "    min_gain = importance['gain'].quantile(treshold)\n",
    "    min_split = importance['split'].quantile(treshold)\n",
    "    garbage_features = importance[ \n",
    "        (importance['split'] < min_split) # | (importance['gain'] < min_gain) \n",
    "    ]['feature']\n",
    "    return list(garbage_features)\n",
    "\n",
    "\n",
    "def find_features_to_retain(features, x, y, model, threshold=1e-4):\n",
    "    scores = permutation_importance(x.copy(), y, model, columns=features)\n",
    "    retain_features = [feat for feat, score in scores.items() if score < -threshold]\n",
    "    return retain_features\n",
    "\n",
    "\n",
    "def permutation_importance(x, y, model, base_score=None, columns=None): \n",
    "    diff = {}\n",
    "    if not base_score:\n",
    "        base_score = roc_auc_score(y, model.predict(x))\n",
    "    if not columns:\n",
    "        columns = x.columns\n",
    "    for col in columns:\n",
    "        value = x[col].copy()\n",
    "        x[col] = np.random.permutation(x[col].values)\n",
    "        diff[col] = roc_auc_score(y, model.predict(x)) - base_score\n",
    "        x[col] = value\n",
    "    return diff\n",
    "\n",
    "\n",
    "def plot_feature_importance(model, max_features=50):\n",
    "    f, ax = plt.subplots(1,2, figsize=[20,10])\n",
    "    lgb.plot_importance(model, max_num_features=max_features, ax=ax[0], importance_type='gain')\n",
    "    ax[0].set_title(\"Light GBM GAIN Feature Importance\")\n",
    "\n",
    "    lgb.plot_importance(model, max_num_features=max_features, ax=ax[1], importance_type='split')\n",
    "    ax[1].set_title(\"Light GBM SPLIT Feature Importance\")\n",
    "    plt.tight_layout(pad=1)\n",
    "    \n",
    "    \n",
    "def avg_feature_importance(dfs):\n",
    "    temp = pd.concat(dfs).reset_index(drop=True)\n",
    "    for col in ['split', 'gain']:\n",
    "        temp[col] = temp[col].astype(float)\n",
    "    agg = temp.groupby('feature').mean()\n",
    "    return agg"
   ]
  },
  {
   "cell_type": "markdown",
   "metadata": {},
   "source": [
    "# Data preparation"
   ]
  },
  {
   "cell_type": "code",
   "execution_count": 4,
   "metadata": {},
   "outputs": [],
   "source": [
    "DFS_DIR = '../input/fraud-messing-v31'"
   ]
  },
  {
   "cell_type": "code",
   "execution_count": 5,
   "metadata": {},
   "outputs": [],
   "source": [
    "df_train, y_train, df_val, y_val, df_hold, y_hold, df_test = map(partial(read_from_disk, DFS_DIR), [\n",
    "    'df_train.pkl', 'y_train.pkl', 'df_val.pkl', 'y_val.pkl', 'df_hold.pkl', 'y_hold.pkl', 'df_test.pkl'\n",
    "])"
   ]
  },
  {
   "cell_type": "code",
   "execution_count": 6,
   "metadata": {
    "_kg_hide-output": true
   },
   "outputs": [
    {
     "name": "stdout",
     "output_type": "stream",
     "text": [
      "['TransactionDT', 'TransactionAmt', 'ProductCD', 'card1', 'card2', 'card3', 'card4', 'card5', 'card6', 'addr1', 'addr2', 'dist1', 'dist2', 'P_emaildomain', 'R_emaildomain', 'C1', 'C2', 'C3', 'C4', 'C5', 'C6', 'C7', 'C8', 'C9', 'C10', 'C11', 'C12', 'C13', 'C14', 'D1', 'D2', 'D3', 'D4', 'D5', 'D6', 'D7', 'D8', 'D9', 'D10', 'D11', 'D12', 'D13', 'D14', 'D15', 'M1', 'M2', 'M3', 'M4', 'M5', 'M6', 'M7', 'M8', 'M9', 'V1', 'V2', 'V3', 'V4', 'V5', 'V6', 'V7', 'V8', 'V9', 'V10', 'V11', 'V12', 'V13', 'V14', 'V15', 'V16', 'V17', 'V18', 'V19', 'V20', 'V21', 'V22', 'V23', 'V24', 'V25', 'V26', 'V27', 'V28', 'V29', 'V30', 'V31', 'V32', 'V33', 'V34', 'V35', 'V36', 'V37', 'V38', 'V39', 'V40', 'V41', 'V42', 'V43', 'V44', 'V45', 'V46', 'V47', 'V48', 'V49', 'V50', 'V51', 'V52', 'V53', 'V54', 'V55', 'V56', 'V57', 'V58', 'V59', 'V60', 'V61', 'V62', 'V63', 'V64', 'V65', 'V66', 'V67', 'V68', 'V69', 'V70', 'V71', 'V72', 'V73', 'V74', 'V75', 'V76', 'V77', 'V78', 'V79', 'V80', 'V81', 'V82', 'V83', 'V84', 'V85', 'V86', 'V87', 'V88', 'V89', 'V90', 'V91', 'V92', 'V93', 'V94', 'V95', 'V96', 'V97', 'V98', 'V99', 'V100', 'V101', 'V102', 'V103', 'V104', 'V105', 'V106', 'V107', 'V108', 'V109', 'V110', 'V111', 'V112', 'V113', 'V114', 'V115', 'V116', 'V117', 'V118', 'V119', 'V120', 'V121', 'V122', 'V123', 'V124', 'V125', 'V126', 'V127', 'V128', 'V129', 'V130', 'V131', 'V132', 'V133', 'V134', 'V135', 'V136', 'V137', 'V138', 'V139', 'V140', 'V141', 'V142', 'V143', 'V144', 'V145', 'V146', 'V147', 'V148', 'V149', 'V150', 'V151', 'V152', 'V153', 'V154', 'V155', 'V156', 'V157', 'V158', 'V159', 'V160', 'V161', 'V162', 'V163', 'V164', 'V165', 'V166', 'V167', 'V168', 'V169', 'V170', 'V171', 'V172', 'V173', 'V174', 'V175', 'V176', 'V177', 'V178', 'V179', 'V180', 'V181', 'V182', 'V183', 'V184', 'V185', 'V186', 'V187', 'V188', 'V189', 'V190', 'V191', 'V192', 'V193', 'V194', 'V195', 'V196', 'V197', 'V198', 'V199', 'V200', 'V201', 'V202', 'V203', 'V204', 'V205', 'V206', 'V207', 'V208', 'V209', 'V210', 'V211', 'V212', 'V213', 'V214', 'V215', 'V216', 'V217', 'V218', 'V219', 'V220', 'V221', 'V222', 'V223', 'V224', 'V225', 'V226', 'V227', 'V228', 'V229', 'V230', 'V231', 'V232', 'V233', 'V234', 'V235', 'V236', 'V237', 'V238', 'V239', 'V240', 'V241', 'V242', 'V243', 'V244', 'V245', 'V246', 'V247', 'V248', 'V249', 'V250', 'V251', 'V252', 'V253', 'V254', 'V255', 'V256', 'V257', 'V258', 'V259', 'V260', 'V261', 'V262', 'V263', 'V264', 'V265', 'V266', 'V267', 'V268', 'V269', 'V270', 'V271', 'V272', 'V273', 'V274', 'V275', 'V276', 'V277', 'V278', 'V279', 'V280', 'V281', 'V282', 'V283', 'V284', 'V285', 'V286', 'V287', 'V288', 'V289', 'V290', 'V291', 'V292', 'V293', 'V294', 'V295', 'V296', 'V297', 'V298', 'V299', 'V300', 'V301', 'V302', 'V303', 'V304', 'V305', 'V306', 'V307', 'V308', 'V309', 'V310', 'V311', 'V312', 'V313', 'V314', 'V315', 'V316', 'V317', 'V318', 'V319', 'V320', 'V321', 'V322', 'V323', 'V324', 'V325', 'V326', 'V327', 'V328', 'V329', 'V330', 'V331', 'V332', 'V333', 'V334', 'V335', 'V336', 'V337', 'V338', 'V339', 'id_01', 'id_02', 'id_03', 'id_04', 'id_05', 'id_06', 'id_07', 'id_08', 'id_09', 'id_10', 'id_11', 'id_12', 'id_13', 'id_14', 'id_15', 'id_16', 'id_17', 'id_18', 'id_19', 'id_20', 'id_21', 'id_22', 'id_23', 'id_24', 'id_25', 'id_26', 'id_27', 'id_28', 'id_29', 'id_30', 'id_31', 'id_32', 'id_33', 'id_34', 'id_35', 'id_36', 'id_37', 'id_38', 'DeviceType', 'DeviceInfo', 'Cents', 'Hour', 'DayOfWeek', 'Day', 'card1__addr1', 'card1__addr1_count', 'card1__card5', 'card1__card5_count', 'card2__dist1', 'card2__id_20', 'card5__P_emaildomain', 'uuid3_count', 'TransactionAmt_mean_by_uuid2_ProductCD', 'dist2_mean_by_uuid2_addr1', 'card1_count', 'card2_count', 'card5_count', 'addr1_count', 'C1_count', 'C13_count', 'P_emaildomain_count', 'D2_na', 'D3_na', 'D5_na', 'D6_na', 'D7_na', 'D13_na', 'D14_na', 'M4_na', 'M5_na', 'M6_na', 'M7_na', 'M8_na', 'P_emaildomain_parts', 'P_emaildomain_sfx2', 'P_emaildomain_sfx1', 'P_emaildomain_bin', 'R_emaildomain_parts', 'R_emaildomain_sfx2', 'R_emaildomain_sfx1', 'R_emaildomain_bin', 'Browser', 'OS', 'id_16_na', 'id_33_0', 'id_33_1']\n"
     ]
    }
   ],
   "source": [
    "print(list(df_train.columns))"
   ]
  },
  {
   "cell_type": "code",
   "execution_count": 7,
   "metadata": {},
   "outputs": [],
   "source": [
    "all_dfs = [df_train, df_val, df_hold, df_test]"
   ]
  },
  {
   "cell_type": "code",
   "execution_count": 8,
   "metadata": {},
   "outputs": [
    {
     "name": "stdout",
     "output_type": "stream",
     "text": [
      "Encoding uid\n",
      "Encoding uid2\n",
      "Encoding uid3\n"
     ]
    }
   ],
   "source": [
    "def frequency(col, dfs):\n",
    "    counts = pd.concat(map(lambda df: df[col], dfs), ignore_index=True).value_counts(dropna=False)\n",
    "    return map(lambda df: df[col].map(counts), dfs)\n",
    "\n",
    "# from https://www.kaggle.com/tolgahancepel/lightgbm-single-model-and-feature-engineering\n",
    "def concat_features(data): \n",
    "    data['uid'] = data['card1'].astype(str)+'_'+data['card2'].astype(str)\n",
    "    data['uid2'] = data['uid'].astype(str)+'_'+data['card3'].astype(str)+'_'+data['card5'].astype(str)\n",
    "    data['uid3'] = data['uid2'].astype(str)+'_'+data['addr1'].astype(str)+'_'+data['addr2'].astype(str)\n",
    "    return data\n",
    "\n",
    "for df in all_dfs:\n",
    "    df = concat_features(df)\n",
    "\n",
    "\n",
    "freq_cols = ['card1','card2','card3','card5',\n",
    "          'C2','C3','C4','C5','C6','C7','C8','C9','C10','C11','C12','C13','C14',\n",
    "          'D1','D2','D3','D4','D5','D6','D7','D8',\n",
    "          'addr1','addr2',\n",
    "          'dist1','dist2',\n",
    "          'P_emaildomain', 'R_emaildomain',\n",
    "          'DeviceInfo','DeviceType',\n",
    "          'id_30','id_33',\n",
    "          'uid','uid2','uid3',\n",
    "         ]\n",
    "for col in freq_cols:\n",
    "    for df, freq in zip(all_dfs, frequency(col, all_dfs)):\n",
    "        df[col+'_count'] = freq\n",
    "\n",
    "\n",
    "agg_cols = ['card1','card2','card3','card5', 'uid', 'uid2', 'uid3']  \n",
    "for col in agg_cols:\n",
    "    for agg_type in ['mean','std']:\n",
    "        new_col_name = col+'_TransactionAmt_'+agg_type\n",
    "        temp_df = pd.concat([df_train[[col, 'TransactionAmt']], df_val[[col, 'TransactionAmt']], df_hold[[col, 'TransactionAmt']], df_test[[col,'TransactionAmt']]])\n",
    "        #temp_df['TransactionAmt'] = temp_df['TransactionAmt'].astype(int)\n",
    "        temp_df = temp_df.groupby([col])['TransactionAmt'].agg([agg_type]).reset_index().rename(\n",
    "                                                columns={agg_type: new_col_name})\n",
    "\n",
    "        temp_df.index = list(temp_df[col])\n",
    "        temp_df = temp_df[new_col_name].to_dict()   \n",
    "        \n",
    "        for df in all_dfs:\n",
    "            df[new_col_name] = df[col].map(temp_df)\n",
    "        del temp_df\n",
    "\n",
    "\n",
    "encode_cols = ['uid', 'uid2', 'uid3']\n",
    "for col in encode_cols:\n",
    "    print('Encoding', col)\n",
    "    temp_df = pd.concat([df_train[col], df_val[col], df_hold[col], df_test[col]])\n",
    "    col_encoded = temp_df.value_counts().to_dict()\n",
    "    del temp_df\n",
    "    for df in all_dfs:\n",
    "        df[col] = df[col].map(col_encoded)"
   ]
  },
  {
   "cell_type": "markdown",
   "metadata": {},
   "source": [
    "# Feature engineering"
   ]
  },
  {
   "cell_type": "code",
   "execution_count": 9,
   "metadata": {},
   "outputs": [],
   "source": [
    "# initial_features = {\n",
    "#     'C1', 'C10', 'C11', 'C12', 'C13', 'C14', 'C2', 'C3', 'C4', 'C5', 'C6', 'C7', 'C8', 'C9', \n",
    "#     'Cents', 'D1', 'D10', 'D11', 'D12', 'D13', 'D14', 'D15', 'D2', 'D3', 'D4', 'D5', 'D6', \n",
    "#     'D7', 'D8', 'D9', 'DayOfMonth', 'DayOfWeek', 'DeviceInfo', 'DeviceType', 'Hour', \n",
    "#     'IsMonthEnd', 'IsMonthStart', 'IsQuarterEnd', 'IsQuarterStart', 'M1', 'M2', 'M3', 'M4', \n",
    "#     'M5', 'M6', 'M7', 'M8', 'M9', 'MonthFraction', 'P_emaildomain', 'ProductCD', 'Quarter', \n",
    "#     'R_emaildomain', 'TransactionAmt', 'TransactionDT', 'V1', 'V10', 'V100', 'V101', 'V102', \n",
    "#     'V103', 'V104', 'V105', 'V106', 'V108', 'V109', 'V11', 'V110', 'V112', 'V114', 'V115', \n",
    "#     'V116', 'V12', 'V123', 'V124', 'V125', 'V126', 'V127', 'V128', 'V129', 'V13', 'V130', \n",
    "#     'V131', 'V132', 'V133', 'V134', 'V135', 'V136', 'V137', 'V139', 'V140', 'V141', 'V142', \n",
    "#     'V143', 'V144', 'V145', 'V146', 'V147', 'V148', 'V149', 'V15', 'V150', 'V151', 'V152', \n",
    "#     'V154', 'V155', 'V156', 'V157', 'V158', 'V159', 'V16', 'V160', 'V161', 'V162', 'V163', \n",
    "#     'V164', 'V165', 'V166', 'V167', 'V168', 'V169', 'V17', 'V170', 'V171', 'V172', 'V173', \n",
    "#     'V174', 'V175', 'V176', 'V177', 'V178', 'V179', 'V18', 'V180', 'V181', 'V182', 'V183', \n",
    "#     'V184', 'V185', 'V186', 'V187', 'V188', 'V189', 'V19', 'V190', 'V192', 'V193', 'V198', \n",
    "#     'V199', 'V2', 'V20', 'V200', 'V201', 'V202', 'V203', 'V204', 'V205', 'V206', 'V207', \n",
    "#     'V208', 'V209', 'V210', 'V211', 'V212', 'V213', 'V214', 'V215', 'V216', 'V217', 'V218', \n",
    "#     'V219', 'V22', 'V220', 'V221', 'V222', 'V223', 'V224', 'V225', 'V226', 'V227', 'V228', \n",
    "#     'V229', 'V23', 'V230', 'V231', 'V232', 'V233', 'V234', 'V235', 'V236', 'V237', 'V238', \n",
    "#     'V239', 'V24', 'V242', 'V243', 'V244', 'V245', 'V246', 'V247', 'V248', 'V249', 'V25', \n",
    "#     'V250', 'V251', 'V252', 'V253', 'V254', 'V255', 'V256', 'V257', 'V258', 'V259', 'V26', \n",
    "#     'V260', 'V261', 'V262', 'V263', 'V264', 'V265', 'V266', 'V267', 'V268', 'V270', 'V271', \n",
    "#     'V272', 'V273', 'V274', 'V275', 'V276', 'V277', 'V278', 'V279', 'V280', 'V281', 'V282', \n",
    "#     'V283', 'V284', 'V285', 'V286', 'V287', 'V288', 'V289', 'V29', 'V290', 'V291', 'V292', \n",
    "#     'V293', 'V294', 'V295', 'V296', 'V297', 'V298', 'V299', 'V3', 'V30', 'V300', 'V301', \n",
    "#     'V302', 'V303', 'V304', 'V306', 'V307', 'V308', 'V309', 'V310', 'V311', 'V312', 'V313', \n",
    "#     'V314', 'V315', 'V316', 'V317', 'V318', 'V319', 'V32', 'V320', 'V321', 'V322', 'V323', \n",
    "#     'V324', 'V326', 'V327', 'V329', 'V33', 'V331', 'V332', 'V333', 'V335', 'V336', 'V337', \n",
    "#     'V338', 'V339', 'V34', 'V35', 'V36', 'V37', 'V38', 'V39', 'V4', 'V40', 'V42', 'V43', 'V44', \n",
    "#     'V45', 'V46', 'V47', 'V48', 'V49', 'V5', 'V50', 'V51', 'V52', 'V53', 'V54', 'V55', 'V56', \n",
    "#     'V57', 'V58', 'V59', 'V6', 'V60', 'V61', 'V62', 'V63', 'V64', 'V66', 'V67', 'V69', 'V7', \n",
    "#     'V70', 'V71', 'V72', 'V73', 'V74', 'V75', 'V76', 'V77', 'V78', 'V79', 'V8', 'V80', 'V81', \n",
    "#     'V82', 'V83', 'V84', 'V85', 'V86', 'V87', 'V9', 'V90', 'V91', 'V92', 'V93', 'V94', 'V95', \n",
    "#     'V96', 'V97', 'V98', 'V99', 'addr1', 'addr2', 'card1', 'card2', 'card3', 'card4', 'card5', \n",
    "#     'card6', 'dist1', 'dist2', 'id_01', 'id_02', 'id_03', 'id_04', 'id_05', 'id_06', 'id_07', \n",
    "#     'id_08', 'id_09', 'id_10', 'id_11', 'id_12', 'id_13', 'id_14', 'id_15', 'id_16', 'id_16_na', \n",
    "#     'id_17', 'id_18', 'id_19', 'id_20', 'id_21', 'id_24', 'id_25', 'id_26', 'id_28', 'id_29', \n",
    "#     'id_30', 'id_31', 'id_32', 'id_33', 'id_33_0', 'id_33_1', 'id_34', 'id_35', 'id_36', 'id_37', \n",
    "#     'id_38'\n",
    "# }\n",
    "\n",
    "# for df in [df_train, df_val, df_hold]:   \n",
    "#     for col in df.columns:\n",
    "#         if col not in initial_features:\n",
    "#             df.drop(col, axis=1, inplace=True)"
   ]
  },
  {
   "cell_type": "markdown",
   "metadata": {},
   "source": [
    "# Feature selection"
   ]
  },
  {
   "cell_type": "code",
   "execution_count": 10,
   "metadata": {},
   "outputs": [],
   "source": [
    "def model_params():\n",
    "    \"\"\"\n",
    "    Params are from https://www.kaggle.com/kyakovlev/ieee-lgbm-with-groupkfold-cv\n",
    "    \"\"\"\n",
    "    return {\n",
    "        'objective':'binary',\n",
    "        'boosting_type':'gbdt',\n",
    "        'metric':'auc',\n",
    "        'n_jobs':-1,\n",
    "        'learning_rate':0.01,\n",
    "        'num_leaves': 2**8,\n",
    "        'max_depth':-1,\n",
    "        'tree_learner':'serial',\n",
    "        'colsample_bytree': 0.5,\n",
    "        'subsample_freq':1,\n",
    "        'subsample':0.7,\n",
    "        'max_bin':255,\n",
    "        'verbose':1,\n",
    "        'seed': 144,\n",
    "    }"
   ]
  },
  {
   "cell_type": "code",
   "execution_count": 11,
   "metadata": {},
   "outputs": [],
   "source": [
    "def rnd_int():\n",
    "    return np.random.randint(np.iinfo(np.int32).max)\n",
    "\n",
    "\n",
    "def sample(x, y, neg_frac=0.2, seed=None):\n",
    "    if not seed:\n",
    "        seed = rnd_int()\n",
    "    x_pos, y_pos = x[y==1], y[y==1]\n",
    "    x_neg, _, y_neg, _ = train_test_split(x[y==0], y[y==0], train_size=neg_frac, random_state=seed)\n",
    "    x = pd.concat([x_pos, x_neg])\n",
    "    y = pd.concat([y_pos, y_neg])\n",
    "    return shuffle(x, y, random_state=seed)"
   ]
  },
  {
   "cell_type": "code",
   "execution_count": 12,
   "metadata": {},
   "outputs": [],
   "source": [
    "def search(n_runs=5, neg_frac=0.2, importance_tresh=0.1, permut_tresh=1e-4):\n",
    "    f_imps = []\n",
    "    selected_features = set()\n",
    "    params = model_params()\n",
    "    \n",
    "    for run in range(n_runs):\n",
    "        lgb_train = lgb.Dataset(*sample(df_train, y_train, neg_frac))\n",
    "        lgb_eval = lgb.Dataset(df_val, y_val, reference=lgb_train)\n",
    "        \n",
    "        seed_everything(rnd_int())\n",
    "        params['seed'] = rnd_int()\n",
    "        print('Starting %d run...' % run)\n",
    "        \n",
    "        lgb_model = lgb.train(params, lgb_train, \n",
    "                              num_boost_round=3000, \n",
    "                              valid_sets=lgb_eval, \n",
    "                              early_stopping_rounds=100,\n",
    "                              verbose_eval=False)\n",
    "        \n",
    "        print('Finished %d run. Selecting features...' % run)\n",
    "        top_features, worst_features, f_imp = split_features_by_importance(df_train, df_val, y_val, lgb_model, \n",
    "                                   importance_tresh, permut_tresh)\n",
    "        f_imps.append(f_imp)\n",
    "        selected_features.update(top_features)\n",
    "        print('Consider to drop: ', sorted(worst_features))\n",
    "    return list(selected_features), avg_feature_importance(f_imps)"
   ]
  },
  {
   "cell_type": "markdown",
   "metadata": {},
   "source": [
    "See in https://www.kaggle.com/blackitten13/fraud-feature-selection-fe9477"
   ]
  },
  {
   "cell_type": "code",
   "execution_count": 13,
   "metadata": {},
   "outputs": [],
   "source": [
    "# selected_features, feature_importance = search(n_runs=4, neg_frac=0.5, importance_tresh=0.05, permut_tresh=1e-5)"
   ]
  },
  {
   "cell_type": "code",
   "execution_count": 14,
   "metadata": {
    "_kg_hide-output": true
   },
   "outputs": [],
   "source": [
    "# fi = feature_importance['gain'].nlargest(60)\n",
    "# print('Best 60 features by GAIN feature importnace:\\n\\n{}'.format(fi))"
   ]
  },
  {
   "cell_type": "code",
   "execution_count": 15,
   "metadata": {
    "_kg_hide-output": true
   },
   "outputs": [],
   "source": [
    "# fi = feature_importance['gain'].nsmallest(60)\n",
    "# print('Worst 60 features by GAIN feature importnace:\\n\\n{}'.format(fi))"
   ]
  },
  {
   "cell_type": "code",
   "execution_count": 16,
   "metadata": {
    "_kg_hide-output": true
   },
   "outputs": [],
   "source": [
    "# fi = feature_importance['split'].nlargest(60)\n",
    "# print('Best 60 features by SPLIT feature importnace:\\n\\n{}'.format(fi))"
   ]
  },
  {
   "cell_type": "code",
   "execution_count": 17,
   "metadata": {
    "_kg_hide-output": true
   },
   "outputs": [],
   "source": [
    "# fi = feature_importance['split'].nsmallest(60)\n",
    "# print('Worst 60 features by SPLIT feature importnace:\\n\\n{}'.format(fi))"
   ]
  },
  {
   "cell_type": "code",
   "execution_count": 18,
   "metadata": {},
   "outputs": [],
   "source": [
    "# print('{} / {}'.format(len(selected_features), len(df_train.columns)))\n",
    "# print(sorted(selected_features))"
   ]
  },
  {
   "cell_type": "code",
   "execution_count": 19,
   "metadata": {},
   "outputs": [],
   "source": [
    "selected_features = ['Browser', 'C1', 'C10', 'C10_count', 'C11', 'C11_count', 'C12', 'C12_count', 'C13', 'C13_count', 'C14', 'C14_count', 'C1_count', 'C2', 'C2_count', 'C3', 'C3_count', 'C4', 'C4_count', 'C5', 'C5_count', 'C6', 'C6_count', 'C7', 'C7_count', 'C8', 'C8_count', 'C9', 'C9_count', 'Cents', 'D1', 'D10', 'D11', 'D12', 'D13', 'D13_na', 'D14', 'D14_na', 'D15', 'D1_count', 'D2', 'D2_count', 'D2_na', 'D3', 'D3_count', 'D3_na', 'D4', 'D4_count', 'D5', 'D5_count', 'D5_na', 'D6', 'D6_count', 'D6_na', 'D7', 'D7_count', 'D7_na', 'D8', 'D8_count', 'D9', 'DayOfWeek', 'DeviceInfo', 'DeviceInfo_count', 'DeviceType', 'DeviceType_count', 'Hour', 'M1', 'M2', 'M3', 'M4', 'M4_na', 'M5', 'M5_na', 'M6', 'M6_na', 'M7', 'M7_na', 'M8', 'M8_na', 'M9', 'OS', 'P_emaildomain', 'P_emaildomain_bin', 'P_emaildomain_count', 'P_emaildomain_parts', 'P_emaildomain_sfx1', 'P_emaildomain_sfx2', 'ProductCD', 'R_emaildomain', 'R_emaildomain_bin', 'R_emaildomain_count', 'R_emaildomain_parts', 'R_emaildomain_sfx1', 'R_emaildomain_sfx2', 'TransactionAmt', 'TransactionDT', 'V1', 'V10', 'V100', 'V101', 'V102', 'V103', 'V104', 'V105', 'V106', 'V108', 'V109', 'V11', 'V110', 'V111', 'V112', 'V114', 'V115', 'V116', 'V12', 'V122', 'V123', 'V124', 'V125', 'V126', 'V127', 'V128', 'V129', 'V13', 'V130', 'V131', 'V132', 'V133', 'V134', 'V135', 'V136', 'V137', 'V138', 'V139', 'V140', 'V141', 'V142', 'V143', 'V144', 'V145', 'V146', 'V147', 'V148', 'V149', 'V15', 'V150', 'V151', 'V152', 'V153', 'V154', 'V155', 'V156', 'V157', 'V158', 'V159', 'V16', 'V160', 'V161', 'V162', 'V163', 'V164', 'V165', 'V166', 'V167', 'V168', 'V169', 'V17', 'V170', 'V171', 'V172', 'V173', 'V174', 'V175', 'V176', 'V177', 'V178', 'V179', 'V18', 'V180', 'V181', 'V182', 'V183', 'V184', 'V185', 'V186', 'V187', 'V188', 'V189', 'V19', 'V190', 'V191', 'V192', 'V193', 'V194', 'V195', 'V196', 'V197', 'V198', 'V199', 'V2', 'V20', 'V200', 'V201', 'V202', 'V203', 'V204', 'V205', 'V206', 'V207', 'V208', 'V209', 'V21', 'V210', 'V211', 'V212', 'V213', 'V214', 'V215', 'V216', 'V217', 'V218', 'V219', 'V22', 'V220', 'V221', 'V222', 'V223', 'V224', 'V225', 'V226', 'V227', 'V228', 'V229', 'V23', 'V230', 'V231', 'V232', 'V233', 'V234', 'V235', 'V236', 'V237', 'V238', 'V239', 'V24', 'V240', 'V242', 'V243', 'V244', 'V245', 'V246', 'V247', 'V248', 'V249', 'V25', 'V250', 'V251', 'V252', 'V253', 'V254', 'V255', 'V256', 'V257', 'V258', 'V259', 'V26', 'V260', 'V261', 'V262', 'V263', 'V264', 'V265', 'V266', 'V267', 'V268', 'V270', 'V271', 'V272', 'V273', 'V274', 'V275', 'V276', 'V277', 'V278', 'V279', 'V280', 'V281', 'V282', 'V283', 'V284', 'V285', 'V286', 'V287', 'V288', 'V289', 'V29', 'V290', 'V291', 'V292', 'V293', 'V294', 'V295', 'V296', 'V297', 'V298', 'V299', 'V3', 'V30', 'V300', 'V301', 'V302', 'V303', 'V304', 'V306', 'V307', 'V308', 'V309', 'V31', 'V310', 'V311', 'V312', 'V313', 'V314', 'V315', 'V316', 'V317', 'V318', 'V319', 'V32', 'V320', 'V321', 'V322', 'V323', 'V324', 'V325', 'V326', 'V327', 'V328', 'V329', 'V33', 'V330', 'V331', 'V332', 'V333', 'V334', 'V335', 'V336', 'V337', 'V338', 'V339', 'V34', 'V35', 'V36', 'V37', 'V38', 'V39', 'V4', 'V40', 'V42', 'V43', 'V44', 'V45', 'V46', 'V47', 'V48', 'V49', 'V5', 'V50', 'V51', 'V52', 'V53', 'V54', 'V55', 'V56', 'V57', 'V58', 'V59', 'V6', 'V60', 'V61', 'V62', 'V63', 'V64', 'V66', 'V67', 'V69', 'V7', 'V70', 'V71', 'V72', 'V73', 'V74', 'V75', 'V76', 'V77', 'V78', 'V79', 'V8', 'V80', 'V81', 'V82', 'V83', 'V84', 'V85', 'V86', 'V87', 'V9', 'V90', 'V91', 'V92', 'V93', 'V94', 'V95', 'V96', 'V97', 'V98', 'V99', 'addr1', 'addr1_count', 'addr2', 'addr2_count', 'card1', 'card1_TransactionAmt_mean', 'card1_TransactionAmt_std', 'card1__addr1', 'card1__addr1_count', 'card1__card5', 'card1__card5_count', 'card1_count', 'card2', 'card2_TransactionAmt_mean', 'card2_TransactionAmt_std', 'card2__dist1', 'card2__id_20', 'card2_count', 'card3', 'card3_TransactionAmt_mean', 'card3_TransactionAmt_std', 'card3_count', 'card4', 'card5', 'card5_TransactionAmt_mean', 'card5_TransactionAmt_std', 'card5__P_emaildomain', 'card5_count', 'card6', 'dist1', 'dist1_count', 'dist2', 'dist2_count', 'id_01', 'id_02', 'id_03', 'id_04', 'id_05', 'id_06', 'id_07', 'id_08', 'id_09', 'id_10', 'id_11', 'id_12', 'id_13', 'id_14', 'id_15', 'id_16', 'id_16_na', 'id_17', 'id_18', 'id_19', 'id_20', 'id_21', 'id_22', 'id_23', 'id_24', 'id_25', 'id_26', 'id_28', 'id_29', 'id_30', 'id_30_count', 'id_31', 'id_32', 'id_33', 'id_33_0', 'id_33_1', 'id_33_count', 'id_34', 'id_35', 'id_36', 'id_37', 'id_38', 'uid', 'uid2', 'uid2_TransactionAmt_mean', 'uid2_TransactionAmt_std', 'uid2_count', 'uid3', 'uid3_TransactionAmt_mean', 'uid3_TransactionAmt_std', 'uid3_count', 'uid_TransactionAmt_mean', 'uid_TransactionAmt_std', 'uid_count']"
   ]
  },
  {
   "cell_type": "code",
   "execution_count": 20,
   "metadata": {},
   "outputs": [
    {
     "name": "stdout",
     "output_type": "stream",
     "text": [
      "Drop:  ['Day', 'TransactionAmt_mean_by_uuid2_ProductCD', 'V107', 'V113', 'V117', 'V118', 'V119', 'V120', 'V121', 'V14', 'V241', 'V269', 'V27', 'V28', 'V305', 'V41', 'V65', 'V68', 'V88', 'V89', 'dist2_mean_by_uuid2_addr1', 'id_27', 'uuid3_count']\n"
     ]
    }
   ],
   "source": [
    "drop_features = set(df_train.columns) - set(selected_features)\n",
    "print('Drop: ', sorted(list(drop_features)))"
   ]
  },
  {
   "cell_type": "markdown",
   "metadata": {},
   "source": [
    "# Test selected features"
   ]
  },
  {
   "cell_type": "code",
   "execution_count": 21,
   "metadata": {},
   "outputs": [],
   "source": [
    "for df in [df_train, df_val, df_hold, df_test]:\n",
    "    for col in df.columns:\n",
    "        if col not in selected_features:\n",
    "            df.drop(col, axis=1, inplace=True)"
   ]
  },
  {
   "cell_type": "code",
   "execution_count": 22,
   "metadata": {},
   "outputs": [],
   "source": [
    "df_train = pd.concat([df_train, df_val, df_hold], axis=0, ignore_index=True)\n",
    "y = pd.concat([y_train, y_val, y_hold], axis=0, ignore_index=True)\n",
    "del df_val, df_hold, y_train, y_val, y_hold"
   ]
  },
  {
   "cell_type": "code",
   "execution_count": 23,
   "metadata": {},
   "outputs": [],
   "source": [
    "def feature_cents(df):\n",
    "    return (np.modf(df['TransactionAmt'])[0] * 1000).round(5).astype(np.uint16)\n",
    "\n",
    "train_trans = pd.read_csv('../input/ieee-fraud-detection/train_transaction.csv')\n",
    "df_train['Cents'] = feature_cents(train_trans).values\n",
    "del train_trans\n",
    "\n",
    "test_trans = pd.read_csv('../input/ieee-fraud-detection/test_transaction.csv')\n",
    "df_test['Cents'] = feature_cents(test_trans).values\n",
    "del test_trans"
   ]
  },
  {
   "cell_type": "code",
   "execution_count": 24,
   "metadata": {},
   "outputs": [
    {
     "name": "stderr",
     "output_type": "stream",
     "text": [
      "/opt/conda/lib/python3.6/site-packages/pandas/core/ops/__init__.py:1115: FutureWarning: elementwise comparison failed; returning scalar instead, but in the future will perform elementwise comparison\n",
      "  result = method(y)\n"
     ]
    }
   ],
   "source": [
    "def feature_ProductCD_W_cents(df):\n",
    "    a = ((df['Cents'] == 0) | (df['Cents'] == 500) | (df['Cents'] == 950))\n",
    "    b = df['ProductCD'] == 'W'\n",
    "    return (a & b).astype(np.uint8)\n",
    "\n",
    "df_train['Cents_ProductCD_W'] = feature_ProductCD_W_cents(df_train)\n",
    "df_test['Cents_ProductCD_W'] = feature_ProductCD_W_cents(df_test)"
   ]
  },
  {
   "cell_type": "code",
   "execution_count": 25,
   "metadata": {
    "_kg_hide-output": true
   },
   "outputs": [
    {
     "name": "stdout",
     "output_type": "stream",
     "text": [
      "['TransactionDT', 'TransactionAmt', 'ProductCD', 'card1', 'card2', 'card3', 'card4', 'card5', 'card6', 'addr1', 'addr2', 'dist1', 'dist2', 'P_emaildomain', 'R_emaildomain', 'C1', 'C2', 'C3', 'C4', 'C5', 'C6', 'C7', 'C8', 'C9', 'C10', 'C11', 'C12', 'C13', 'C14', 'D1', 'D2', 'D3', 'D4', 'D5', 'D6', 'D7', 'D8', 'D9', 'D10', 'D11', 'D12', 'D13', 'D14', 'D15', 'M1', 'M2', 'M3', 'M4', 'M5', 'M6', 'M7', 'M8', 'M9', 'V1', 'V2', 'V3', 'V4', 'V5', 'V6', 'V7', 'V8', 'V9', 'V10', 'V11', 'V12', 'V13', 'V15', 'V16', 'V17', 'V18', 'V19', 'V20', 'V21', 'V22', 'V23', 'V24', 'V25', 'V26', 'V29', 'V30', 'V31', 'V32', 'V33', 'V34', 'V35', 'V36', 'V37', 'V38', 'V39', 'V40', 'V42', 'V43', 'V44', 'V45', 'V46', 'V47', 'V48', 'V49', 'V50', 'V51', 'V52', 'V53', 'V54', 'V55', 'V56', 'V57', 'V58', 'V59', 'V60', 'V61', 'V62', 'V63', 'V64', 'V66', 'V67', 'V69', 'V70', 'V71', 'V72', 'V73', 'V74', 'V75', 'V76', 'V77', 'V78', 'V79', 'V80', 'V81', 'V82', 'V83', 'V84', 'V85', 'V86', 'V87', 'V90', 'V91', 'V92', 'V93', 'V94', 'V95', 'V96', 'V97', 'V98', 'V99', 'V100', 'V101', 'V102', 'V103', 'V104', 'V105', 'V106', 'V108', 'V109', 'V110', 'V111', 'V112', 'V114', 'V115', 'V116', 'V122', 'V123', 'V124', 'V125', 'V126', 'V127', 'V128', 'V129', 'V130', 'V131', 'V132', 'V133', 'V134', 'V135', 'V136', 'V137', 'V138', 'V139', 'V140', 'V141', 'V142', 'V143', 'V144', 'V145', 'V146', 'V147', 'V148', 'V149', 'V150', 'V151', 'V152', 'V153', 'V154', 'V155', 'V156', 'V157', 'V158', 'V159', 'V160', 'V161', 'V162', 'V163', 'V164', 'V165', 'V166', 'V167', 'V168', 'V169', 'V170', 'V171', 'V172', 'V173', 'V174', 'V175', 'V176', 'V177', 'V178', 'V179', 'V180', 'V181', 'V182', 'V183', 'V184', 'V185', 'V186', 'V187', 'V188', 'V189', 'V190', 'V191', 'V192', 'V193', 'V194', 'V195', 'V196', 'V197', 'V198', 'V199', 'V200', 'V201', 'V202', 'V203', 'V204', 'V205', 'V206', 'V207', 'V208', 'V209', 'V210', 'V211', 'V212', 'V213', 'V214', 'V215', 'V216', 'V217', 'V218', 'V219', 'V220', 'V221', 'V222', 'V223', 'V224', 'V225', 'V226', 'V227', 'V228', 'V229', 'V230', 'V231', 'V232', 'V233', 'V234', 'V235', 'V236', 'V237', 'V238', 'V239', 'V240', 'V242', 'V243', 'V244', 'V245', 'V246', 'V247', 'V248', 'V249', 'V250', 'V251', 'V252', 'V253', 'V254', 'V255', 'V256', 'V257', 'V258', 'V259', 'V260', 'V261', 'V262', 'V263', 'V264', 'V265', 'V266', 'V267', 'V268', 'V270', 'V271', 'V272', 'V273', 'V274', 'V275', 'V276', 'V277', 'V278', 'V279', 'V280', 'V281', 'V282', 'V283', 'V284', 'V285', 'V286', 'V287', 'V288', 'V289', 'V290', 'V291', 'V292', 'V293', 'V294', 'V295', 'V296', 'V297', 'V298', 'V299', 'V300', 'V301', 'V302', 'V303', 'V304', 'V306', 'V307', 'V308', 'V309', 'V310', 'V311', 'V312', 'V313', 'V314', 'V315', 'V316', 'V317', 'V318', 'V319', 'V320', 'V321', 'V322', 'V323', 'V324', 'V325', 'V326', 'V327', 'V328', 'V329', 'V330', 'V331', 'V332', 'V333', 'V334', 'V335', 'V336', 'V337', 'V338', 'V339', 'id_01', 'id_02', 'id_03', 'id_04', 'id_05', 'id_06', 'id_07', 'id_08', 'id_09', 'id_10', 'id_11', 'id_12', 'id_13', 'id_14', 'id_15', 'id_16', 'id_17', 'id_18', 'id_19', 'id_20', 'id_21', 'id_22', 'id_23', 'id_24', 'id_25', 'id_26', 'id_28', 'id_29', 'id_30', 'id_31', 'id_32', 'id_33', 'id_34', 'id_35', 'id_36', 'id_37', 'id_38', 'DeviceType', 'DeviceInfo', 'Cents', 'Hour', 'DayOfWeek', 'card1__addr1', 'card1__addr1_count', 'card1__card5', 'card1__card5_count', 'card2__dist1', 'card2__id_20', 'card5__P_emaildomain', 'card1_count', 'card2_count', 'card5_count', 'addr1_count', 'C1_count', 'C13_count', 'P_emaildomain_count', 'D2_na', 'D3_na', 'D5_na', 'D6_na', 'D7_na', 'D13_na', 'D14_na', 'M4_na', 'M5_na', 'M6_na', 'M7_na', 'M8_na', 'P_emaildomain_parts', 'P_emaildomain_sfx2', 'P_emaildomain_sfx1', 'P_emaildomain_bin', 'R_emaildomain_parts', 'R_emaildomain_sfx2', 'R_emaildomain_sfx1', 'R_emaildomain_bin', 'Browser', 'OS', 'id_16_na', 'id_33_0', 'id_33_1', 'uid', 'uid2', 'uid3', 'card3_count', 'C2_count', 'C3_count', 'C4_count', 'C5_count', 'C6_count', 'C7_count', 'C8_count', 'C9_count', 'C10_count', 'C11_count', 'C12_count', 'C14_count', 'D1_count', 'D2_count', 'D3_count', 'D4_count', 'D5_count', 'D6_count', 'D7_count', 'D8_count', 'addr2_count', 'dist1_count', 'dist2_count', 'R_emaildomain_count', 'DeviceInfo_count', 'DeviceType_count', 'id_30_count', 'id_33_count', 'uid_count', 'uid2_count', 'uid3_count', 'card1_TransactionAmt_mean', 'card1_TransactionAmt_std', 'card2_TransactionAmt_mean', 'card2_TransactionAmt_std', 'card3_TransactionAmt_mean', 'card3_TransactionAmt_std', 'card5_TransactionAmt_mean', 'card5_TransactionAmt_std', 'uid_TransactionAmt_mean', 'uid_TransactionAmt_std', 'uid2_TransactionAmt_mean', 'uid2_TransactionAmt_std', 'uid3_TransactionAmt_mean', 'uid3_TransactionAmt_std', 'Cents_ProductCD_W']\n"
     ]
    }
   ],
   "source": [
    "print(list(df_train.columns))"
   ]
  },
  {
   "cell_type": "code",
   "execution_count": 26,
   "metadata": {},
   "outputs": [],
   "source": [
    "START_DATE = datetime.datetime.strptime('2017-11-30', '%Y-%m-%d')\n",
    "TransactionDT1 = df_train['TransactionDT'].apply(lambda x: (START_DATE + datetime.timedelta(seconds = x)))\n",
    "dt_m = TransactionDT1.dt.date.astype('str').str[:7]"
   ]
  },
  {
   "cell_type": "code",
   "execution_count": 27,
   "metadata": {},
   "outputs": [
    {
     "data": {
      "text/plain": [
       "((590540, 504), (506691, 504))"
      ]
     },
     "execution_count": 27,
     "metadata": {},
     "output_type": "execute_result"
    }
   ],
   "source": [
    "df_train = df_train.drop(['TransactionDT'], axis=1)\n",
    "df_test = df_test.drop(['TransactionDT'], axis=1)\n",
    "df_train.shape, df_test.shape"
   ]
  },
  {
   "cell_type": "code",
   "execution_count": 28,
   "metadata": {
    "_kg_hide-output": false
   },
   "outputs": [
    {
     "name": "stdout",
     "output_type": "stream",
     "text": [
      "(453219, 504) (453219,) (137321, 504) (137321,)\n",
      "Training until validation scores don't improve for 500 rounds.\n",
      "[200]\ttraining's auc: 0.963385\tvalid_1's auc: 0.895664\n",
      "[400]\ttraining's auc: 0.987676\tvalid_1's auc: 0.910458\n",
      "[600]\ttraining's auc: 0.9952\tvalid_1's auc: 0.916756\n",
      "[800]\ttraining's auc: 0.998001\tvalid_1's auc: 0.919524\n",
      "[1000]\ttraining's auc: 0.999165\tvalid_1's auc: 0.921313\n",
      "[1200]\ttraining's auc: 0.999656\tvalid_1's auc: 0.922032\n",
      "[1400]\ttraining's auc: 0.999852\tvalid_1's auc: 0.922455\n",
      "[1600]\ttraining's auc: 0.999939\tvalid_1's auc: 0.922888\n",
      "[1800]\ttraining's auc: 0.999978\tvalid_1's auc: 0.92251\n",
      "[2000]\ttraining's auc: 0.999993\tvalid_1's auc: 0.922552\n",
      "Early stopping, best iteration is:\n",
      "[1606]\ttraining's auc: 0.999941\tvalid_1's auc: 0.922917\n",
      "Fold 1 | AUC: 0.9229167125109011\n",
      "(497955, 504) (497955,) (92585, 504) (92585,)\n",
      "Training until validation scores don't improve for 500 rounds.\n",
      "[200]\ttraining's auc: 0.96003\tvalid_1's auc: 0.915234\n",
      "[400]\ttraining's auc: 0.986507\tvalid_1's auc: 0.932789\n",
      "[600]\ttraining's auc: 0.995027\tvalid_1's auc: 0.939158\n",
      "[800]\ttraining's auc: 0.99801\tvalid_1's auc: 0.942239\n",
      "[1000]\ttraining's auc: 0.999167\tvalid_1's auc: 0.94334\n",
      "[1200]\ttraining's auc: 0.999626\tvalid_1's auc: 0.944395\n",
      "[1400]\ttraining's auc: 0.999837\tvalid_1's auc: 0.944789\n",
      "[1600]\ttraining's auc: 0.999935\tvalid_1's auc: 0.945031\n",
      "[1800]\ttraining's auc: 0.999974\tvalid_1's auc: 0.945118\n",
      "[2000]\ttraining's auc: 0.99999\tvalid_1's auc: 0.945419\n",
      "[2200]\ttraining's auc: 0.999997\tvalid_1's auc: 0.945294\n",
      "[2400]\ttraining's auc: 0.999999\tvalid_1's auc: 0.945322\n",
      "Early stopping, best iteration is:\n",
      "[1959]\ttraining's auc: 0.999988\tvalid_1's auc: 0.945516\n",
      "Fold 2 | AUC: 0.9455159331722646\n",
      "(504519, 504) (504519,) (86021, 504) (86021,)\n",
      "Training until validation scores don't improve for 500 rounds.\n",
      "[200]\ttraining's auc: 0.960501\tvalid_1's auc: 0.932022\n",
      "[400]\ttraining's auc: 0.9863\tvalid_1's auc: 0.944894\n",
      "[600]\ttraining's auc: 0.994598\tvalid_1's auc: 0.949269\n",
      "[800]\ttraining's auc: 0.997704\tvalid_1's auc: 0.950962\n",
      "[1000]\ttraining's auc: 0.998979\tvalid_1's auc: 0.95126\n",
      "[1200]\ttraining's auc: 0.999559\tvalid_1's auc: 0.951374\n",
      "[1400]\ttraining's auc: 0.999797\tvalid_1's auc: 0.951252\n",
      "[1600]\ttraining's auc: 0.999916\tvalid_1's auc: 0.951077\n",
      "Early stopping, best iteration is:\n",
      "[1184]\ttraining's auc: 0.999533\tvalid_1's auc: 0.951427\n",
      "Fold 3 | AUC: 0.9514273309923081\n",
      "(488908, 504) (488908,) (101632, 504) (101632,)\n",
      "Training until validation scores don't improve for 500 rounds.\n",
      "[200]\ttraining's auc: 0.962339\tvalid_1's auc: 0.921101\n",
      "[400]\ttraining's auc: 0.98763\tvalid_1's auc: 0.937632\n",
      "[600]\ttraining's auc: 0.99544\tvalid_1's auc: 0.943044\n",
      "[800]\ttraining's auc: 0.998259\tvalid_1's auc: 0.944976\n",
      "[1000]\ttraining's auc: 0.999267\tvalid_1's auc: 0.946129\n",
      "[1200]\ttraining's auc: 0.999686\tvalid_1's auc: 0.946397\n",
      "[1400]\ttraining's auc: 0.999885\tvalid_1's auc: 0.946414\n",
      "[1600]\ttraining's auc: 0.999954\tvalid_1's auc: 0.946701\n",
      "[1800]\ttraining's auc: 0.999983\tvalid_1's auc: 0.94653\n",
      "[2000]\ttraining's auc: 0.999993\tvalid_1's auc: 0.94651\n",
      "Early stopping, best iteration is:\n",
      "[1644]\ttraining's auc: 0.999963\tvalid_1's auc: 0.946755\n",
      "Fold 4 | AUC: 0.9467549500888268\n",
      "(506885, 504) (506885,) (83655, 504) (83655,)\n",
      "Training until validation scores don't improve for 500 rounds.\n",
      "[200]\ttraining's auc: 0.959302\tvalid_1's auc: 0.922863\n",
      "[400]\ttraining's auc: 0.985837\tvalid_1's auc: 0.944457\n",
      "[600]\ttraining's auc: 0.994387\tvalid_1's auc: 0.951808\n",
      "[800]\ttraining's auc: 0.997654\tvalid_1's auc: 0.954419\n",
      "[1000]\ttraining's auc: 0.998964\tvalid_1's auc: 0.95597\n",
      "[1200]\ttraining's auc: 0.999522\tvalid_1's auc: 0.956563\n",
      "[1400]\ttraining's auc: 0.999788\tvalid_1's auc: 0.956879\n",
      "[1600]\ttraining's auc: 0.999906\tvalid_1's auc: 0.95697\n",
      "[1800]\ttraining's auc: 0.999961\tvalid_1's auc: 0.956926\n",
      "[2000]\ttraining's auc: 0.999983\tvalid_1's auc: 0.956913\n",
      "Early stopping, best iteration is:\n",
      "[1592]\ttraining's auc: 0.999903\tvalid_1's auc: 0.956994\n",
      "Fold 5 | AUC: 0.956994454900262\n",
      "(501214, 504) (501214,) (89326, 504) (89326,)\n",
      "Training until validation scores don't improve for 500 rounds.\n",
      "[200]\ttraining's auc: 0.960915\tvalid_1's auc: 0.91448\n",
      "[400]\ttraining's auc: 0.986595\tvalid_1's auc: 0.933375\n",
      "[600]\ttraining's auc: 0.994861\tvalid_1's auc: 0.938753\n",
      "[800]\ttraining's auc: 0.997864\tvalid_1's auc: 0.941683\n",
      "[1000]\ttraining's auc: 0.999073\tvalid_1's auc: 0.942429\n",
      "[1200]\ttraining's auc: 0.999584\tvalid_1's auc: 0.942823\n",
      "[1400]\ttraining's auc: 0.999818\tvalid_1's auc: 0.943035\n",
      "[1600]\ttraining's auc: 0.999926\tvalid_1's auc: 0.942933\n",
      "[1800]\ttraining's auc: 0.999972\tvalid_1's auc: 0.942715\n",
      "Early stopping, best iteration is:\n",
      "[1370]\ttraining's auc: 0.999795\tvalid_1's auc: 0.943075\n",
      "Fold 6 | AUC: 0.9430754498306083\n",
      "\n",
      "Mean AUC = 0.9444474719158618\n"
     ]
    }
   ],
   "source": [
    "y_preds = np.zeros(df_test.shape[0])\n",
    "score = 0\n",
    "\n",
    "feature_importances = pd.DataFrame()\n",
    "feature_importances['feature'] = df_train.columns\n",
    "\n",
    "NFOLDS = len(np.unique(dt_m)) # 6\n",
    "\n",
    "params = model_params()\n",
    "\n",
    "for fold_n, month in enumerate(np.unique(dt_m)):\n",
    "    X_train, y_train = df_train[~dt_m.isin([month])], y[~dt_m.isin([month])]\n",
    "    X_valid, y_valid = df_train[dt_m.isin([month])], y[dt_m.isin([month])]\n",
    "    print(X_train.shape, y_train.shape, X_valid.shape, y_valid.shape)\n",
    "\n",
    "    dtrain = lgb.Dataset(X_train, label=y_train)\n",
    "    dvalid = lgb.Dataset(X_valid, label=y_valid)\n",
    "\n",
    "    clf = lgb.train(params, dtrain, 10000, valid_sets = [dtrain, dvalid], verbose_eval=200, early_stopping_rounds=500)\n",
    "    \n",
    "    feature_importances[f'fold_{fold_n + 1}'] = clf.feature_importance()\n",
    "    \n",
    "    y_pred_valid = clf.predict(X_valid)\n",
    "    save_to_disk(y_pred_valid, 'y_pred_valid_fold{}.pkl'.format(fold_n))\n",
    "    print(f\"Fold {fold_n + 1} | AUC: {roc_auc_score(y_valid, y_pred_valid)}\")\n",
    "    \n",
    "    score += roc_auc_score(y_valid, y_pred_valid) / NFOLDS\n",
    "    \n",
    "    y_pred_test = clf.predict(df_test)\n",
    "    save_to_disk(y_pred_test, 'y_pred_test_fold{}.pkl'.format(fold_n))\n",
    "    y_preds += y_pred_test / NFOLDS\n",
    "    \n",
    "    del X_train, X_valid, y_train, y_valid\n",
    "    gc.collect()\n",
    "\n",
    "print(f\"\\nMean AUC = {score}\")"
   ]
  },
  {
   "cell_type": "markdown",
   "metadata": {},
   "source": [
    "# Submission"
   ]
  },
  {
   "cell_type": "code",
   "execution_count": 29,
   "metadata": {},
   "outputs": [],
   "source": [
    "sub = pd.read_csv('../input/ieee-fraud-detection/sample_submission.csv')\n",
    "sub['isFraud'] = y_preds\n",
    "sub.to_csv('submission.csv', index=False)"
   ]
  },
  {
   "cell_type": "code",
   "execution_count": 30,
   "metadata": {},
   "outputs": [
    {
     "data": {
      "image/png": "[encoded data removed]",
      "text/plain": [
       "<Figure size 1152x1152 with 1 Axes>"
      ]
     },
     "metadata": {
      "needs_background": "light"
     },
     "output_type": "display_data"
    }
   ],
   "source": [
    "feature_importances['average'] = feature_importances[[f'fold_{fold_n + 1}' for fold_n in range(NFOLDS)]].mean(axis=1)\n",
    "feature_importances.to_csv('feature_importances.csv')\n",
    "\n",
    "plt.figure(figsize=(16, 16))\n",
    "sns.barplot(data=feature_importances.sort_values(by='average', ascending=False).head(50), x='average', y='feature');\n",
    "plt.title('50 TOP feature importance over {} folds average'.format(NFOLDS));"
   ]
  }
 ],
 "metadata": {
  "kernelspec": {
   "display_name": "Python 3",
   "language": "python",
   "name": "python3"
  },
  "language_info": {
   "codemirror_mode": {
    "name": "ipython",
    "version": 3
   },
   "file_extension": ".py",
   "mimetype": "text/x-python",
   "name": "python",
   "nbconvert_exporter": "python",
   "pygments_lexer": "ipython3",
   "version": "3.6.6"
  }
 },
 "nbformat": 4,
 "nbformat_minor": 1
}
